{
 "cells": [
  {
   "cell_type": "markdown",
   "metadata": {},
   "source": [
    "### 1002. 터렛"
   ]
  },
  {
   "cell_type": "code",
   "execution_count": 13,
   "metadata": {},
   "outputs": [
    {
     "name": "stdout",
     "output_type": "stream",
     "text": [
      "3\n",
      "0 0 13 40 0 37\n",
      "2\n",
      "0 0 3 0 7 4\n",
      "1\n",
      "1 1 1 1 1 5\n",
      "0\n"
     ]
    }
   ],
   "source": [
    "def checkIS(x1,y1,r1,x2,y2,r2):\n",
    "    distance=(x1-x2)*(x1-x2)+(y1-y2)*(y1-y2)\n",
    "    if distance==0:\n",
    "        if r1==r2:\n",
    "            print(-1)\n",
    "        else:\n",
    "            print(0)\n",
    "    elif distance==(r1+r2)*(r1+r2):\n",
    "        print(1)\n",
    "    elif distance<(r1+r2)*(r1+r2):\n",
    "        if distance==(r1-r2)*(r1-r2):\n",
    "            print(1)\n",
    "        elif distance<(r1-r2)*(r1-r2):\n",
    "            print(0)\n",
    "        else:\n",
    "            print(2)\n",
    "    else:\n",
    "        print(0)\n",
    "\n",
    "for i in range(int(input())):\n",
    "    x1,y1,r1,x2,y2,r2=map(int,input().split())\n",
    "    checkIS(x1,y1,r1,x2,y2,r2)"
   ]
  },
  {
   "cell_type": "markdown",
   "metadata": {},
   "source": [
    "### 1003. 피보나치 함수"
   ]
  },
  {
   "cell_type": "code",
   "execution_count": null,
   "metadata": {},
   "outputs": [],
   "source": [
    "def new_fibo(n):\n",
    "    zero_f,zero_s=1,0\n",
    "    one_f,one_s=0,1\n",
    "    count=1\n",
    "    while(count<=n):\n",
    "        zero_f,zero_s=zero_s,zero_f+zero_s\n",
    "        one_f,one_s=one_s,one_f+one_s\n",
    "        count+=1\n",
    "    print(zero_f,one_f)\n",
    "\n",
    "\n",
    "for i in range(int(input())):\n",
    "    n=int(input())\n",
    "    new_fibo(n)"
   ]
  },
  {
   "cell_type": "markdown",
   "metadata": {},
   "source": [
    "### 1009. 분산처리"
   ]
  },
  {
   "cell_type": "code",
   "execution_count": 15,
   "metadata": {},
   "outputs": [
    {
     "name": "stdout",
     "output_type": "stream",
     "text": [
      "5\n",
      "1 6\n",
      "1\n",
      "3 7\n",
      "7\n",
      "6 2\n",
      "6\n",
      "7 100\n",
      "1\n",
      "9 635\n",
      "9\n"
     ]
    }
   ],
   "source": [
    "for i in range(int(input())):\n",
    "    again=[]\n",
    "    a,b=map(int,input().split())\n",
    "    if a%10==0:\n",
    "        print(10)\n",
    "        continue\n",
    "    temp=a%10\n",
    "    while True:\n",
    "        if not temp in again:\n",
    "            again.append(temp)\n",
    "            temp*=a\n",
    "            temp%=10\n",
    "        else:\n",
    "            break\n",
    "    print(again[b%len(again)-1])"
   ]
  },
  {
   "cell_type": "markdown",
   "metadata": {},
   "source": [
    "###  1011 Fly me to the Alpha Centauri"
   ]
  },
  {
   "cell_type": "code",
   "execution_count": null,
   "metadata": {},
   "outputs": [],
   "source": [
    "import math\n",
    "for i in range(int(input())):\n",
    "    n,m=map(int,input().split())\n",
    "    maxJ=int(math.sqrt(m-n))\n",
    "    counts=2*(maxJ-1)+1\n",
    "    remain=(m-n)-(maxJ**2)\n",
    "    while(remain):\n",
    "        if remain-maxJ>=0:\n",
    "            remain-=maxJ\n",
    "            counts+=1\n",
    "        else:\n",
    "            maxJ-=1\n",
    "    print(counts)"
   ]
  },
  {
   "cell_type": "markdown",
   "metadata": {},
   "source": [
    "### 1015. 수열 정렬"
   ]
  },
  {
   "cell_type": "code",
   "execution_count": null,
   "metadata": {},
   "outputs": [],
   "source": [
    "g=int(input())\n",
    "a=list(map(int,input().split()))\n",
    "b=a.copy()\n",
    "b.sort()\n",
    "answer=[]\n",
    "for i in a:\n",
    "    count=0\n",
    "    while(1):\n",
    "        if b.index(i)+count in answer:\n",
    "            count+=1\n",
    "        else:\n",
    "            break\n",
    "    answer.append(b.index(i)+count)\n",
    "print(*answer)"
   ]
  },
  {
   "cell_type": "markdown",
   "metadata": {},
   "source": [
    "### 1016 제곱 ㄴㄴ수"
   ]
  },
  {
   "cell_type": "code",
   "execution_count": null,
   "metadata": {},
   "outputs": [],
   "source": [
    "check=[0]*1000001\n",
    "a,b=map(int,input().split())\n",
    "for i in range(2,b):\n",
    "    if i*i > b:\n",
    "        break\n",
    "    start=i*i-a%(i*i)\n",
    "    if start == i*i:\n",
    "        start = 0\n",
    "    for j in range(start,b-a+1,i*i):\n",
    "        check[j]=1\n",
    "ans=0\n",
    "for i in range(b-a+1):\n",
    "    if check[i]==0:\n",
    "        ans+=1\n",
    "print(ans)"
   ]
  },
  {
   "cell_type": "markdown",
   "metadata": {},
   "source": [
    "### 1018. 체스판 다시 칠하기"
   ]
  },
  {
   "cell_type": "code",
   "execution_count": null,
   "metadata": {},
   "outputs": [],
   "source": [
    "a,b=map(int,input().split())\n",
    "board=[]\n",
    "for i in range(a):\n",
    "    line=input().split()\n",
    "    board.append(line)\n",
    "minlist=[]\n",
    "for i in range(b-8+1):\n",
    "    for j in range(a-8+1):\n",
    "        minW=0\n",
    "        minB=0\n",
    "        for p in range(8):\n",
    "            for k in range(8):\n",
    "                if (k+p)%2==0:\n",
    "                    if board[j+p][0][i+k]=='W':\n",
    "                        minW+=1\n",
    "                    else:\n",
    "                        minB+=1\n",
    "                else:\n",
    "                    if board[j+p][0][i+k]=='B':\n",
    "                        minW+=1\n",
    "                    else:\n",
    "                        minB+=1\n",
    "        minlist.append(min(minB,minW))\n",
    "print(min(minlist))"
   ]
  },
  {
   "cell_type": "markdown",
   "metadata": {},
   "source": [
    "###  1037 약수"
   ]
  },
  {
   "cell_type": "code",
   "execution_count": null,
   "metadata": {},
   "outputs": [],
   "source": [
    "a=int(input())\n",
    "answer=sorted(list(map(int,input().split())))\n",
    "print(answer[0]*answer[-1])"
   ]
  },
  {
   "cell_type": "markdown",
   "metadata": {},
   "source": [
    "### 1049 기타줄"
   ]
  },
  {
   "cell_type": "code",
   "execution_count": null,
   "metadata": {},
   "outputs": [],
   "source": [
    "n,m=map(int,input().split())\n",
    "packages,single=[],[]\n",
    "for i in range(m):\n",
    "    p,s=map(int,input().split())\n",
    "    packages.append(p)\n",
    "    single.append(s)\n",
    "minP,minS=min(packages),min(single)\n",
    "if minP > minS*6:\n",
    "    print(minS*n)\n",
    "else:\n",
    "    p,r=divmod(n,6)\n",
    "    if minP > minS*r:\n",
    "        print(minP*p+minS*r)\n",
    "    else:\n",
    "        print(minP*(p+1))"
   ]
  },
  {
   "cell_type": "markdown",
   "metadata": {},
   "source": [
    "### 1065 한수"
   ]
  },
  {
   "cell_type": "code",
   "execution_count": null,
   "metadata": {},
   "outputs": [],
   "source": [
    "def solution(n):\n",
    "    if n <100:\n",
    "        answer=n\n",
    "        return answer\n",
    "    else:\n",
    "        answer=99\n",
    "        for i in range(100,n+1):\n",
    "            a=list(str(i))\n",
    "            a=list(map(int,a))\n",
    "            if sum(a)/3==a[1]:\n",
    "                answer+=1\n",
    "        return answer\n",
    "n=int(input())\n",
    "answer=solution(n)\n",
    "print(answer)"
   ]
  },
  {
   "cell_type": "markdown",
   "metadata": {},
   "source": [
    "### 1075 나누기"
   ]
  },
  {
   "cell_type": "code",
   "execution_count": null,
   "metadata": {},
   "outputs": [],
   "source": [
    "n=input()\n",
    "f=int(input())\n",
    "n=n[:-2]+'00'\n",
    "p,r=divmod(int(n),f)\n",
    "if r==0:\n",
    "    print(n[-2:])\n",
    "else:\n",
    "    print(str(f*(p+1))[-2:])"
   ]
  },
  {
   "cell_type": "markdown",
   "metadata": {},
   "source": [
    "### 1076 저항"
   ]
  },
  {
   "cell_type": "code",
   "execution_count": null,
   "metadata": {},
   "outputs": [],
   "source": [
    "first=input()\n",
    "second=input()\n",
    "third=input()\n",
    "register=''\n",
    "def regis(first,last=True):\n",
    "    global register\n",
    "    if last==True:\n",
    "        if first==\"black\":\n",
    "            register+='0'\n",
    "        elif first==\"brown\":\n",
    "            register+='1'\n",
    "        elif first==\"red\":\n",
    "            register+='2'\n",
    "        elif first==\"orange\":\n",
    "            register+='3'\n",
    "        elif first==\"yellow\":\n",
    "            register+='4'\n",
    "        elif first==\"green\":\n",
    "            register+='5'\n",
    "        elif first==\"blue\":\n",
    "            register+='6'\n",
    "        elif first==\"violet\":\n",
    "            register+='7'\n",
    "        elif first==\"grey\":\n",
    "            register+='8'\n",
    "        elif first==\"white\":\n",
    "            register+='9'\n",
    "    else:\n",
    "        register=int(register)\n",
    "        if first==\"black\":\n",
    "            register*=1\n",
    "        elif first==\"brown\":\n",
    "            register*=10\n",
    "        elif first==\"red\":\n",
    "            register*=100\n",
    "        elif first==\"orange\":\n",
    "            register*=1000\n",
    "        elif first==\"yellow\":\n",
    "            register*=10000\n",
    "        elif first==\"green\":\n",
    "            register*=100000\n",
    "        elif first==\"blue\":\n",
    "            register*=1000000\n",
    "        elif first==\"violet\":\n",
    "            register*=10000000\n",
    "        elif first==\"grey\":\n",
    "            register*=100000000\n",
    "        elif first==\"white\":\n",
    "            register*=1000000000\n",
    "        print(register)\n",
    "regis(first)\n",
    "regis(second)\n",
    "regis(third,False)"
   ]
  },
  {
   "cell_type": "markdown",
   "metadata": {},
   "source": [
    "### 1080 행렬"
   ]
  },
  {
   "cell_type": "code",
   "execution_count": null,
   "metadata": {},
   "outputs": [],
   "source": [
    "def change(x,y,A):\n",
    "    for i in range(3):\n",
    "        for j in range(3):\n",
    "            if A[x+i][y+j]==0:\n",
    "                A[x+i][y+j]=1\n",
    "            else:\n",
    "                A[x+i][y+j]=0\n",
    "    return A\n",
    "n,m = map(int,input().split())\n",
    "A=[]\n",
    "B=[]\n",
    "for i in range(n):\n",
    "    A.append(list(map(int,list(input()))))\n",
    "for i in range(n):\n",
    "    B.append(list(map(int,list(input()))))\n",
    "\n",
    "count=0\n",
    "for i in range(n-3+1):\n",
    "    for j in range(m-3+1):\n",
    "        if A[i][j]!=B[i][j]:\n",
    "            A=change(i,j,A)\n",
    "            count+=1\n",
    "answer=True\n",
    "for i in range(n):\n",
    "    for j in range(m):\n",
    "        if A[i][j]!=B[i][j]:\n",
    "            answer=False\n",
    "if answer:\n",
    "    print(count)\n",
    "else:\n",
    "    print(-1)"
   ]
  },
  {
   "cell_type": "markdown",
   "metadata": {},
   "source": [
    "### 1110 더하기 사이클"
   ]
  },
  {
   "cell_type": "code",
   "execution_count": null,
   "metadata": {},
   "outputs": [],
   "source": [
    "count=0\n",
    "for i in range(1,9):\n",
    "    a=input()\n",
    "    for j in range(len(a)):\n",
    "        if (i+j)%2==1:\n",
    "            if a[j]==\"F\":\n",
    "                count+=1\n",
    "print(count)"
   ]
  },
  {
   "cell_type": "markdown",
   "metadata": {},
   "source": [
    "### 1120 문자열"
   ]
  },
  {
   "cell_type": "code",
   "execution_count": null,
   "metadata": {},
   "outputs": [],
   "source": [
    "n,m=input().split()\n",
    "answer=51\n",
    "if len(n)==len(m):\n",
    "    count=0\n",
    "    for i in range(len(m)):\n",
    "        if n[i]!=m[i]:\n",
    "            count+=1\n",
    "    print(count)\n",
    "else:\n",
    "    for i in range(len(m)-len(n)+1):\n",
    "        count=0\n",
    "        for j in range(len(n)):\n",
    "            if n[j] != m[j+i]:\n",
    "                count+=1\n",
    "        answer=min(answer,count)\n",
    "    print(answer)"
   ]
  },
  {
   "cell_type": "markdown",
   "metadata": {},
   "source": [
    "### 1149 RGB 거리"
   ]
  },
  {
   "cell_type": "code",
   "execution_count": null,
   "metadata": {},
   "outputs": [],
   "source": [
    "array=[]\n",
    "for i in range(int(input())):\n",
    "    array.append([])\n",
    "    houses=map(int,input().split())\n",
    "    for house in houses:\n",
    "        array[i].append(house)\n",
    "for i in range(1,len(array)):\n",
    "    for j in range(len(array[i])): \n",
    "        array[i][j]+=min(array[i-1][:j]+array[i-1][j+1:])\n",
    "print(min(array[-1]))"
   ]
  },
  {
   "cell_type": "markdown",
   "metadata": {},
   "source": [
    "### 1152 단어의 개수"
   ]
  },
  {
   "cell_type": "code",
   "execution_count": null,
   "metadata": {},
   "outputs": [],
   "source": [
    "n=input()\n",
    "EmptyList=n.split()\n",
    "print(len(EmptyList))"
   ]
  },
  {
   "cell_type": "markdown",
   "metadata": {},
   "source": [
    "### 1157 단어 공부"
   ]
  },
  {
   "cell_type": "code",
   "execution_count": null,
   "metadata": {},
   "outputs": [],
   "source": [
    "def number(s):\n",
    "    s=s.lower()\n",
    "    un=[]\n",
    "    string= list(set(s))\n",
    "    for i in string:\n",
    "        a=s.count(i)\n",
    "        un.append(a)\n",
    "    if un.count(max(un)) !=1:\n",
    "        return '?'\n",
    "    else:\n",
    "        return string[un.index(max(un))].upper()\n",
    "s=input()\n",
    "print(number(s))"
   ]
  },
  {
   "cell_type": "markdown",
   "metadata": {},
   "source": [
    "### 1159 농구 경기"
   ]
  },
  {
   "cell_type": "code",
   "execution_count": null,
   "metadata": {},
   "outputs": [],
   "source": [
    "n=int(input())\n",
    "person=dict()\n",
    "for i in range(n):\n",
    "    inp=input()\n",
    "    if inp[0] in person:\n",
    "        person[inp[0]]+=1\n",
    "    else:\n",
    "        person[inp[0]]=1\n",
    "person=sorted(list(person.items()))\n",
    "answer=''\n",
    "for i,j in person:\n",
    "    if j>=5:\n",
    "        answer+=i\n",
    "if answer=='':\n",
    "    print(\"PREDAJA\")\n",
    "else:\n",
    "    print(answer)"
   ]
  },
  {
   "cell_type": "markdown",
   "metadata": {},
   "source": [
    "### 1181 단어 정렬"
   ]
  },
  {
   "cell_type": "code",
   "execution_count": null,
   "metadata": {},
   "outputs": [],
   "source": [
    "def dictionary(n):\n",
    "    l=[]\n",
    "    for i in range(n):\n",
    "        s=input()\n",
    "        l.append((s,len(s)))\n",
    "    l=list(set(l))\n",
    "    l=sorted(l,key=lambda l: (l[1],l[0]))\n",
    "    for i in l:\n",
    "        print(i[0])\n",
    "n=int(input())\n",
    "dictionary(n)"
   ]
  },
  {
   "cell_type": "markdown",
   "metadata": {},
   "source": [
    "### 1260 DFS 와 BFS"
   ]
  },
  {
   "cell_type": "code",
   "execution_count": null,
   "metadata": {},
   "outputs": [],
   "source": [
    "n,m,V=map(int,input().split())\n",
    "path=[[]for i in range(n+1)]\n",
    "for i in range(m):\n",
    "    a,b=map(int,input().split())\n",
    "    if not a in path[b]:\n",
    "        path[b].append(a)\n",
    "    if not b in path[a]:\n",
    "        path[a].append(b)\n",
    "for p in path:\n",
    "    p.sort()\n",
    "\n",
    "DFS=[]\n",
    "def dfs(now):\n",
    "    DFS.append(now)\n",
    "    for i in path[now]:\n",
    "        if i in DFS:\n",
    "            continue\n",
    "        dfs(i)\n",
    "    return\n",
    "dfs(V)\n",
    "print(*DFS)\n",
    "def bfs(now):\n",
    "    global BFS\n",
    "    temp=[]\n",
    "    if len(now)==n:\n",
    "        return\n",
    "    try:\n",
    "        for i in now:\n",
    "            for j in path[i]:\n",
    "                if not j in BFS:\n",
    "                    BFS.append(j)\n",
    "        bfs(BFS)\n",
    "    except:\n",
    "        return\n",
    "    return\n",
    "BFS=[V]\n",
    "bfs(BFS)\n",
    "print(*BFS)"
   ]
  },
  {
   "cell_type": "markdown",
   "metadata": {},
   "source": [
    "### 1309 동물원"
   ]
  },
  {
   "cell_type": "code",
   "execution_count": null,
   "metadata": {},
   "outputs": [],
   "source": [
    "n=int(input())\n",
    "answer=1\n",
    "first=3\n",
    "if n==1:\n",
    "    print(first)\n",
    "else:\n",
    "    while n!=1:\n",
    "        temp=first\n",
    "        first=(2*first+answer)%9901\n",
    "        answer=temp\n",
    "        n-=1\n",
    "    print(first)"
   ]
  },
  {
   "cell_type": "markdown",
   "metadata": {},
   "source": [
    "### 1325 효율적인 해킹(pypy3)"
   ]
  },
  {
   "cell_type": "code",
   "execution_count": 18,
   "metadata": {},
   "outputs": [
    {
     "ename": "ValueError",
     "evalue": "not enough values to unpack (expected 2, got 0)",
     "output_type": "error",
     "traceback": [
      "\u001b[1;31m---------------------------------------------------------------------------\u001b[0m",
      "\u001b[1;31mValueError\u001b[0m                                Traceback (most recent call last)",
      "\u001b[1;32m<ipython-input-18-d33091549363>\u001b[0m in \u001b[0;36m<module>\u001b[1;34m\u001b[0m\n\u001b[0;32m      1\u001b[0m \u001b[1;32mimport\u001b[0m \u001b[0msys\u001b[0m\u001b[1;33m\u001b[0m\u001b[1;33m\u001b[0m\u001b[0m\n\u001b[0;32m      2\u001b[0m \u001b[1;32mfrom\u001b[0m \u001b[0mcollections\u001b[0m \u001b[1;32mimport\u001b[0m \u001b[0mdeque\u001b[0m\u001b[1;33m\u001b[0m\u001b[1;33m\u001b[0m\u001b[0m\n\u001b[1;32m----> 3\u001b[1;33m \u001b[0mn\u001b[0m\u001b[1;33m,\u001b[0m\u001b[0mm\u001b[0m\u001b[1;33m=\u001b[0m\u001b[0mmap\u001b[0m\u001b[1;33m(\u001b[0m\u001b[0mint\u001b[0m\u001b[1;33m,\u001b[0m\u001b[0msys\u001b[0m\u001b[1;33m.\u001b[0m\u001b[0mstdin\u001b[0m\u001b[1;33m.\u001b[0m\u001b[0mreadline\u001b[0m\u001b[1;33m(\u001b[0m\u001b[1;33m)\u001b[0m\u001b[1;33m.\u001b[0m\u001b[0msplit\u001b[0m\u001b[1;33m(\u001b[0m\u001b[1;33m)\u001b[0m\u001b[1;33m)\u001b[0m\u001b[1;33m\u001b[0m\u001b[1;33m\u001b[0m\u001b[0m\n\u001b[0m\u001b[0;32m      4\u001b[0m \u001b[0mcomputers\u001b[0m\u001b[1;33m=\u001b[0m\u001b[1;33m[\u001b[0m\u001b[1;33m[\u001b[0m\u001b[1;33m]\u001b[0m\u001b[1;32mfor\u001b[0m \u001b[0mi\u001b[0m \u001b[1;32min\u001b[0m \u001b[0mrange\u001b[0m\u001b[1;33m(\u001b[0m\u001b[0mn\u001b[0m\u001b[1;33m+\u001b[0m\u001b[1;36m1\u001b[0m\u001b[1;33m)\u001b[0m\u001b[1;33m]\u001b[0m\u001b[1;33m\u001b[0m\u001b[1;33m\u001b[0m\u001b[0m\n\u001b[0;32m      5\u001b[0m \u001b[1;32mfor\u001b[0m \u001b[0m_\u001b[0m \u001b[1;32min\u001b[0m \u001b[0mrange\u001b[0m\u001b[1;33m(\u001b[0m\u001b[0mm\u001b[0m\u001b[1;33m)\u001b[0m\u001b[1;33m:\u001b[0m\u001b[1;33m\u001b[0m\u001b[1;33m\u001b[0m\u001b[0m\n",
      "\u001b[1;31mValueError\u001b[0m: not enough values to unpack (expected 2, got 0)"
     ]
    }
   ],
   "source": [
    "import sys\n",
    "from collections import deque\n",
    "n,m=map(int,sys.stdin.readline().split())\n",
    "computers=[[]for i in range(n+1)]\n",
    "for _ in range(m):\n",
    "    a,b=map(int,sys.stdin.readline().split())\n",
    "    computers[b].append(a)\n",
    "counts=[0]*(n+1)\n",
    "maxC=0\n",
    "for i in range(1,n+1):\n",
    "    count=1\n",
    "    q = deque()\n",
    "    q.append(i)\n",
    "    conti=[0]*(n+1)\n",
    "    conti[i]=1\n",
    "    while q:\n",
    "        j=q.popleft()\n",
    "        for k in computers[j]:\n",
    "            if conti[k]==0:\n",
    "                count+=1\n",
    "                q.append(k)\n",
    "                conti[k]=1\n",
    "    if count > maxC:\n",
    "        maxC=count\n",
    "    counts[i]=count\n",
    "for i,e in enumerate(counts):\n",
    "    if e==maxC:\n",
    "        print(i,end=' ')"
   ]
  },
  {
   "cell_type": "markdown",
   "metadata": {},
   "source": [
    "### 1357 뒤집힌 덧셈"
   ]
  },
  {
   "cell_type": "code",
   "execution_count": null,
   "metadata": {},
   "outputs": [],
   "source": [
    "x,y=input().split()\n",
    "print(int(str(int(x[::-1])+int(y[::-1]))[::-1]))"
   ]
  },
  {
   "cell_type": "markdown",
   "metadata": {},
   "source": [
    "### 1371 가장 많은 글자"
   ]
  },
  {
   "cell_type": "code",
   "execution_count": null,
   "metadata": {},
   "outputs": [],
   "source": [
    "import sys\n",
    "alpha=[0]*26\n",
    "\n",
    "for line in sys.stdin:\n",
    "    for s in line:\n",
    "        if s==' ':\n",
    "            continue\n",
    "        elif s=='\\n':\n",
    "            continue\n",
    "        idx=ord(s)-97\n",
    "        alpha[idx]+=1\n",
    "\n",
    "ans=max(alpha)\n",
    "for i in range(len(alpha)):\n",
    "    if alpha[i]==ans:\n",
    "        print(chr(i+97),end='')"
   ]
  },
  {
   "cell_type": "markdown",
   "metadata": {},
   "source": [
    "### 1373 2진수 8진수"
   ]
  },
  {
   "cell_type": "code",
   "execution_count": null,
   "metadata": {},
   "outputs": [],
   "source": [
    "s=input()\n",
    "answer=''\n",
    "ans=0\n",
    "count=0\n",
    "for i in range(len(s)-1,-1,-1):\n",
    "    if count%3 == 0:\n",
    "        ans+=int(s[i])*1\n",
    "        count+=1\n",
    "    elif count%3 == 1:\n",
    "        ans+=int(s[i])*2\n",
    "        count+=1\n",
    "    elif count%3 == 2:\n",
    "        ans+=int(s[i])*4\n",
    "        answer+=str(ans)\n",
    "        ans=0\n",
    "        count=0\n",
    "if ans >= 0:\n",
    "    answer+=str(ans)\n",
    "answer=answer[::-1]\n",
    "print(int(answer))"
   ]
  },
  {
   "cell_type": "markdown",
   "metadata": {},
   "source": [
    "### 1389 케빈 베이컨의 6단계 법치"
   ]
  },
  {
   "cell_type": "code",
   "execution_count": null,
   "metadata": {},
   "outputs": [],
   "source": [
    "def bfs(counts,person,friends,count):\n",
    "    temp=[]\n",
    "    for pe in person:\n",
    "        for i in friends[pe]:\n",
    "            if counts[i]==0:\n",
    "                counts[i]=count\n",
    "                temp.append(i)\n",
    "    if len(temp):\n",
    "        count+=1\n",
    "        bfs(counts,temp,friends,count)\n",
    "\n",
    "\n",
    "n,m=map(int,input().split())\n",
    "friends=[[] for i in range(n+1)]\n",
    "for i in range(m):\n",
    "    a,b=map(int,input().split())\n",
    "    if not a in friends[b]:\n",
    "        friends[b].append(a)\n",
    "        friends[b].sort()\n",
    "    if not b in friends[a]:\n",
    "        friends[a].append(b)\n",
    "        friends[a].sort()\n",
    "answers=[0]*(n+1)\n",
    "answers[0]= -1\n",
    "person=[1]\n",
    "while not all(answers):\n",
    "    counts=[0]*(n+1)\n",
    "    count=1\n",
    "    counts[person[0]]=-1\n",
    "    bfs(counts,person,friends,count)\n",
    "    answers[person[0]]=sum(counts)+1\n",
    "    person[0]+=1\n",
    "print(answers.index(min(answers[1:])))"
   ]
  },
  {
   "cell_type": "markdown",
   "metadata": {},
   "source": [
    "### 1406 데이터"
   ]
  },
  {
   "cell_type": "code",
   "execution_count": null,
   "metadata": {},
   "outputs": [],
   "source": [
    "import sys\n",
    "\n",
    "strings = sys.stdin.readline().rstrip()\n",
    "commands= int(sys.stdin.readline().rstrip())\n",
    "left=[]\n",
    "right=[]\n",
    "for i in range(len(strings)):\n",
    "    left.append(strings[i])\n",
    "    \n",
    "for i in range(commands):\n",
    "    command=sys.stdin.readline().rstrip().split()\n",
    "    if command[0]==\"P\":\n",
    "        left.append(command[1])\n",
    "    elif command[0]=='L':\n",
    "        if len(left):\n",
    "            move=left.pop()\n",
    "            right.append(move)\n",
    "    elif command[0]=='D':\n",
    "        if len(right):\n",
    "            move=right.pop()\n",
    "            left.append(move)\n",
    "    else:\n",
    "        if len(left):\n",
    "            left.pop()\n",
    "\n",
    "print(''.join(left+right[::-1]))            "
   ]
  },
  {
   "cell_type": "markdown",
   "metadata": {},
   "source": [
    "### 1436 영화감독 숌"
   ]
  },
  {
   "cell_type": "code",
   "execution_count": null,
   "metadata": {},
   "outputs": [],
   "source": [
    "number=665\n",
    "n=int(input())\n",
    "cnt=0\n",
    "while(cnt!=n):\n",
    "    number+=1\n",
    "    temp=0\n",
    "    for i in str(number):\n",
    "        if temp==3:\n",
    "            break\n",
    "        if i=='6':\n",
    "            temp+=1\n",
    "        else:\n",
    "            temp=0\n",
    "    if temp==3:\n",
    "        cnt+=1\n",
    "print(number)"
   ]
  },
  {
   "cell_type": "markdown",
   "metadata": {},
   "source": [
    "### 1475 방번호"
   ]
  },
  {
   "cell_type": "code",
   "execution_count": null,
   "metadata": {},
   "outputs": [],
   "source": [
    "def plastic(n):\n",
    "    a=[]\n",
    "    import math\n",
    "    for i in '01234578':\n",
    "        a.append(n.count(i))\n",
    "    min1= max(a)\n",
    "    min2= math.ceil((n.count('6')+n.count('9'))/2)\n",
    "    return max(min1,min2)\n",
    "n=input()\n",
    "print(plastic(n))"
   ]
  },
  {
   "cell_type": "markdown",
   "metadata": {},
   "source": [
    "### 1476 날짜 계산"
   ]
  },
  {
   "cell_type": "code",
   "execution_count": null,
   "metadata": {},
   "outputs": [],
   "source": [
    "a,b,c=map(int,input().split())\n",
    "answer=(28*19*13*a+15*19*17*b+15*28*10*c)%(15*28*19)\n",
    "if answer==0:\n",
    "    print(7980)\n",
    "else:\n",
    "    print(answer)"
   ]
  },
  {
   "cell_type": "markdown",
   "metadata": {},
   "source": [
    "### 1495. 기타리스트"
   ]
  },
  {
   "cell_type": "code",
   "execution_count": 11,
   "metadata": {},
   "outputs": [
    {
     "name": "stdout",
     "output_type": "stream",
     "text": [
      "1 6 10\n",
      "6\n",
      "0\n"
     ]
    }
   ],
   "source": [
    "n,s,m=map(int,input().split())\n",
    "v=list(map(int,input().split()))\n",
    "\n",
    "dp=[[0 for i in range(m+1)] for j in range(n+1)]\n",
    "dp[0][s]=1\n",
    "idx=1\n",
    "while n:\n",
    "    for i in range(m+1):\n",
    "        if dp[idx-1][i]==1:\n",
    "            if i-v[idx-1] >= 0:\n",
    "                dp[idx][i-v[idx-1]]=1\n",
    "            if i+v[idx-1] <=m:\n",
    "                dp[idx][i+v[idx-1]]=1\n",
    "    n-=1\n",
    "    idx+=1\n",
    "\n",
    "answer=-1\n",
    "for i in range(m,-1,-1):\n",
    "    if dp[-1][i]==1:\n",
    "        answer=i\n",
    "        break\n",
    "if answer>=0:\n",
    "    print(answer)\n",
    "else:\n",
    "    print(answer)"
   ]
  },
  {
   "cell_type": "markdown",
   "metadata": {},
   "source": [
    "### 1547 공"
   ]
  },
  {
   "cell_type": "code",
   "execution_count": null,
   "metadata": {},
   "outputs": [],
   "source": [
    "answer=1\n",
    "for i in range(int(input())):\n",
    "    a,b=map(int,input().split())\n",
    "    if answer==a:\n",
    "        answer=b\n",
    "    elif answer==b:\n",
    "        answer=a\n",
    "print(answer)"
   ]
  },
  {
   "cell_type": "markdown",
   "metadata": {},
   "source": [
    "### 1561 놀이공원"
   ]
  },
  {
   "cell_type": "code",
   "execution_count": null,
   "metadata": {},
   "outputs": [],
   "source": [
    "n,m=map(int,input().split())\n",
    "times=list(map(int,input().split()))\n",
    "left,right=0,10**20\n",
    "answer=0\n",
    "B_p=0\n",
    "while(left<=right):\n",
    "    mid=(left+right)//2\n",
    "    temp=0\n",
    "    for time in times:\n",
    "        temp += ((mid-1)//time)+1\n",
    "    if temp < n:\n",
    "        if answer < mid:\n",
    "            answer = mid\n",
    "            B_p = temp\n",
    "        left = mid + 1\n",
    "    else:\n",
    "        right = mid - 1\n",
    "for i in range(m):\n",
    "    if answer%times[i]==0:\n",
    "        B_p+=1\n",
    "        if B_p == n:\n",
    "            print(i+1)\n",
    "            break"
   ]
  },
  {
   "cell_type": "markdown",
   "metadata": {},
   "source": [
    "### 1629 곱셈"
   ]
  },
  {
   "cell_type": "code",
   "execution_count": null,
   "metadata": {},
   "outputs": [],
   "source": [
    "import math\n",
    "\n",
    "def Near2(n):\n",
    "    temp=1\n",
    "    while True:\n",
    "        if temp >= n:\n",
    "            break\n",
    "        temp*=2\n",
    "    return temp//2\n",
    "a,b,c=map(int,input().split())\n",
    "twos=[]\n",
    "\n",
    "while b!=1:\n",
    "    t=Near2(b)\n",
    "    twos.append(t)\n",
    "    b=b-t\n",
    "twos.append(b)\n",
    "twos.reverse()\n",
    "dp=[0]*(int(math.log(twos[-1],2))+1)\n",
    "\n",
    "dp[0]=a%c\n",
    "for i in range(1,len(dp)):\n",
    "    dp[i]=(dp[i-1]*dp[i-1])%c\n",
    "\n",
    "final=1\n",
    "for two in twos:\n",
    "    final*=dp[int(math.log(two,2))]\n",
    "print(final%c)"
   ]
  },
  {
   "cell_type": "markdown",
   "metadata": {},
   "source": [
    "### 1654 랜선 자르기"
   ]
  },
  {
   "cell_type": "code",
   "execution_count": null,
   "metadata": {},
   "outputs": [],
   "source": [
    "k,n=map(int,input().split())\n",
    "lines=[]\n",
    "for i in range(k):\n",
    "    lines.append(int(input()))\n",
    "left=1\n",
    "right=max(lines)\n",
    "answer=0\n",
    "while left <= right:\n",
    "    count=0\n",
    "    mid=(left+right)//2\n",
    "    for line in lines:\n",
    "        count+=line//mid\n",
    "    if count==n:\n",
    "        if answer < mid:\n",
    "            answer=mid\n",
    "        left=mid+1\n",
    "    elif count < n:\n",
    "        right=mid-1\n",
    "    else:\n",
    "        if answer < mid:\n",
    "            answer=mid\n",
    "        left=mid+1\n",
    "print(answer)"
   ]
  },
  {
   "cell_type": "markdown",
   "metadata": {},
   "source": [
    "### 1655 가운데를 말해요(Pypy)"
   ]
  },
  {
   "cell_type": "code",
   "execution_count": null,
   "metadata": {},
   "outputs": [],
   "source": [
    "import heapq\n",
    "minH=[]\n",
    "maxH=[]\n",
    "heapq.heapify(minH)\n",
    "heapq.heapify(maxH)\n",
    "n=int(input())\n",
    "while n:\n",
    "    m=int(input())\n",
    "    if len(minH)==len(maxH):\n",
    "        heapq.heappush(maxH,(-m,m))\n",
    "    else:\n",
    "        heapq.heappush(minH,m)\n",
    "    if (len(minH)!=0 and len(maxH)!=0) and maxH[0][1] > minH[0]:\n",
    "        a=heapq.heappop(maxH)[1]\n",
    "        b=heapq.heappop(minH)\n",
    "        heapq.heappush(minH,a)\n",
    "        heapq.heappush(maxH,(-b,b))\n",
    "    print(maxH[0][1])\n",
    "    n-=1"
   ]
  },
  {
   "cell_type": "markdown",
   "metadata": {},
   "source": [
    "### 1676 팩토리얼 0의 개수"
   ]
  },
  {
   "cell_type": "code",
   "execution_count": null,
   "metadata": {},
   "outputs": [],
   "source": [
    "a=int(input())\n",
    "answer=0\n",
    "for i in range(1,a+1):\n",
    "    while True:\n",
    "        if i%5==0:\n",
    "            answer+=1\n",
    "            i/=5\n",
    "        else:\n",
    "            break\n",
    "print(answer)"
   ]
  },
  {
   "cell_type": "markdown",
   "metadata": {},
   "source": [
    "### 1697 숨바꼭질"
   ]
  },
  {
   "cell_type": "code",
   "execution_count": null,
   "metadata": {},
   "outputs": [],
   "source": [
    "import queue\n",
    "n,k=map(int,input().split())\n",
    "check=[0]*200000\n",
    "dist=[0]*200000\n",
    "check[n]=1\n",
    "q=queue.Queue()\n",
    "q.put(n)\n",
    "while q.qsize():\n",
    "    number=q.get()\n",
    "    if number-1 >=0:\n",
    "        if check[number-1]==0:\n",
    "            q.put(number-1)\n",
    "            check[number-1]=1\n",
    "            dist[number-1]=dist[number]+1\n",
    "    if number+1 < 200000:\n",
    "        if check[number+1]==0:\n",
    "            q.put(number+1)\n",
    "            check[number+1]=1\n",
    "            dist[number+1]=dist[number]+1\n",
    "    if 2*number < 200000:\n",
    "        if check[2*number]==0:\n",
    "            q.put(2*number)\n",
    "            check[2*number]=1\n",
    "            dist[2*number]=dist[number]+1\n",
    "    if dist[k]:\n",
    "        break\n",
    "print(dist[k])"
   ]
  },
  {
   "cell_type": "markdown",
   "metadata": {},
   "source": [
    "### 1699 제곱수의 합"
   ]
  },
  {
   "cell_type": "code",
   "execution_count": null,
   "metadata": {},
   "outputs": [],
   "source": [
    "import math\n",
    "n=int(input())\n",
    "d=[0]*(n+1)\n",
    "for i in range(1,n+1):\n",
    "    d[i]=i\n",
    "    for j in range(1,int(math.sqrt(i))+1):\n",
    "        if d[i] > d[i-j*j]+1:\n",
    "            d[i]=d[i-j*j]+1\n",
    "print(d[n])"
   ]
  },
  {
   "cell_type": "markdown",
   "metadata": {},
   "source": [
    "### 1712 손익분기점"
   ]
  },
  {
   "cell_type": "code",
   "execution_count": null,
   "metadata": {},
   "outputs": [],
   "source": [
    "def Break_even_point(a,b,c):\n",
    "    if b >= c:\n",
    "        return -1\n",
    "    else:\n",
    "        sell=a/(c-b)+1\n",
    "        return int(sell)\n",
    "\n",
    "(a,b,c)=input().split()\n",
    "a=int(a)\n",
    "b=int(b)\n",
    "c=int(c)\n",
    "print(Break_even_point(a,b,c))"
   ]
  },
  {
   "cell_type": "markdown",
   "metadata": {},
   "source": [
    "### 1759 암호만들기"
   ]
  },
  {
   "cell_type": "code",
   "execution_count": null,
   "metadata": {},
   "outputs": [],
   "source": [
    "l,c = map(int,input().split())\n",
    "chrs=input().split()\n",
    "chrs.sort()\n",
    "\n",
    "def check(alphabet):\n",
    "    ahdma=0\n",
    "    wkdma=0\n",
    "    for a in alphabet:\n",
    "        if a in ['a','e','i','o','u']:\n",
    "            ahdma+=1\n",
    "        else:\n",
    "            wkdma+=1\n",
    "    return ahdma>=1 and wkdma>=2\n",
    "            \n",
    "\n",
    "def make(l,chrs,alphabet,idx):\n",
    "    if len(alphabet)==l:\n",
    "        if check(alphabet):\n",
    "            print(alphabet)\n",
    "        return\n",
    "    if idx >=len(chrs):\n",
    "        return\n",
    "    ne=alphabet+chrs[idx]\n",
    "    idx+=1\n",
    "    make(l,chrs,ne,idx)\n",
    "    make(l,chrs,alphabet,idx)\n",
    "\n",
    "alphabet=''\n",
    "idx=0\n",
    "make(l,chrs,alphabet,idx)"
   ]
  },
  {
   "cell_type": "markdown",
   "metadata": {},
   "source": [
    "### 1789 수들의 합"
   ]
  },
  {
   "cell_type": "code",
   "execution_count": null,
   "metadata": {},
   "outputs": [],
   "source": [
    "import math\n",
    "s=int(input())\n",
    "m=int(math.sqrt(2*s))\n",
    "while m*m+m>2*s:\n",
    "    m-=1\n",
    "print(m)"
   ]
  },
  {
   "cell_type": "markdown",
   "metadata": {},
   "source": [
    "### 1834 나머지와 몫이 같은 수"
   ]
  },
  {
   "cell_type": "code",
   "execution_count": null,
   "metadata": {},
   "outputs": [],
   "source": [
    "n=int(input())\n",
    "summation=0\n",
    "for i in range(1,n):\n",
    "    summation+=(i*n+i)\n",
    "print(summation)"
   ]
  },
  {
   "cell_type": "markdown",
   "metadata": {},
   "source": [
    "### 1874 스택 수열"
   ]
  },
  {
   "cell_type": "code",
   "execution_count": null,
   "metadata": {},
   "outputs": [],
   "source": [
    "n=int(input())\n",
    "def sol(n):\n",
    "    answer_list=[int(input()) for i in range(n)]\n",
    "    answer=[]\n",
    "    ans=[]\n",
    "    k=0\n",
    "    try:\n",
    "        for i in range(1,answer_list[0]+1):\n",
    "            k+=1\n",
    "            answer.append(k)\n",
    "            ans.append(\"+\")\n",
    "        for j in range(n):\n",
    "            somethingtodo=False\n",
    "            if len(answer)==0:\n",
    "                k+=1\n",
    "                answer.append(k)\n",
    "                ans.append(\"+\")\n",
    "                somethingtodo=True\n",
    "            if answer[-1]==answer_list[j]:\n",
    "                answer.pop()\n",
    "                ans.append('-')\n",
    "                somethingtodo=True\n",
    "            else:\n",
    "                while answer_list[j]>answer[-1]:\n",
    "                    k+=1\n",
    "                    answer.append(k)\n",
    "                    ans.append(\"+\")\n",
    "                    somethingtodo=True\n",
    "                if answer[-1]==answer_list[j]:\n",
    "                    answer.pop()\n",
    "                    ans.append(\"-\")\n",
    "                    somethingtodo=True\n",
    "            if somethingtodo:\n",
    "                pass\n",
    "            else:\n",
    "                print(\"NO\")\n",
    "                return\n",
    "        print(*ans,sep=\"\\n\")\n",
    "    except:\n",
    "        print(\"No\")\n",
    "sol(n)"
   ]
  },
  {
   "cell_type": "markdown",
   "metadata": {},
   "source": [
    "### 1890 점프"
   ]
  },
  {
   "cell_type": "code",
   "execution_count": null,
   "metadata": {},
   "outputs": [],
   "source": [
    "n=int(input())\n",
    "games=[]\n",
    "for i in range(n):\n",
    "    game=list(map(int,input().split()))\n",
    "    games.append(game)\n",
    "\n",
    "dp=[[0 for i in range(n)]for i in range(n)]\n",
    "dp[0][0]=1\n",
    "for i in range(n):\n",
    "    for j in range(n):\n",
    "        if i==0 and j==0:\n",
    "            continue\n",
    "        for k in range(j):\n",
    "            if k+games[i][k]==j:\n",
    "                dp[i][j]+=dp[i][k]\n",
    "        for k in range(i):\n",
    "            if k+games[k][j]==i:\n",
    "                dp[i][j]+=dp[k][j]\n",
    "print(dp[n-1][n-1])"
   ]
  },
  {
   "cell_type": "markdown",
   "metadata": {},
   "source": [
    "### 1904 01타일"
   ]
  },
  {
   "cell_type": "code",
   "execution_count": null,
   "metadata": {},
   "outputs": [],
   "source": [
    "n=int(input())\n",
    "if n==1:\n",
    "    print(1)\n",
    "elif n==2:\n",
    "    print(2)\n",
    "else:\n",
    "    a,b=1,2\n",
    "    for i in range(3,n+1):\n",
    "        a,b=(b)%15746,(a+b)%15746\n",
    "    print(b%15746)"
   ]
  },
  {
   "cell_type": "markdown",
   "metadata": {},
   "source": [
    "### 1912 연속합"
   ]
  },
  {
   "cell_type": "code",
   "execution_count": null,
   "metadata": {},
   "outputs": [],
   "source": [
    "n=int(input())\n",
    "arr=list(map(int,input().split()))\n",
    "temp=0\n",
    "maxsum=-1000\n",
    "for num in arr:\n",
    "    temp=max(num,temp+num)\n",
    "    if temp>maxsum:\n",
    "        maxsum=temp\n",
    "print(maxsum)"
   ]
  },
  {
   "cell_type": "markdown",
   "metadata": {},
   "source": [
    "### 1920 수 찾기"
   ]
  },
  {
   "cell_type": "code",
   "execution_count": null,
   "metadata": {},
   "outputs": [],
   "source": [
    "import bisect\n",
    "def binary_search(arr,x):\n",
    "    i = bisect.bisect_left(arr,x)\n",
    "    return i < len(arr) and arr[i]==x\n",
    "n=int(input())\n",
    "arr = list(map(int,input().split()))\n",
    "arr.sort()\n",
    "m=int(input())\n",
    "check=list(map(int,input().split()))\n",
    "for i in range(m):\n",
    "    if binary_search(arr,check[i]):\n",
    "        print(1)\n",
    "    else:\n",
    "        print(0)"
   ]
  },
  {
   "cell_type": "markdown",
   "metadata": {},
   "source": [
    "### 1927 최소합(PyPy)"
   ]
  },
  {
   "cell_type": "code",
   "execution_count": null,
   "metadata": {},
   "outputs": [],
   "source": [
    "import heapq,sys\n",
    "h=[]\n",
    "heapq.heapify(h)\n",
    "for i in range(int(input())):\n",
    "    n=int(sys.stdin.readline())\n",
    "    if n==0:\n",
    "        if len(h)==0:\n",
    "            print(0)\n",
    "        else:\n",
    "            print(heapq.heappop(h))\n",
    "    else:\n",
    "        heapq.heappush(h,n)"
   ]
  },
  {
   "cell_type": "markdown",
   "metadata": {},
   "source": [
    "### 1929 소수 구하기"
   ]
  },
  {
   "cell_type": "code",
   "execution_count": null,
   "metadata": {},
   "outputs": [],
   "source": [
    "import math\n",
    "def prime(n):\n",
    "    is_prime=True\n",
    "    if n==1:\n",
    "        is_prime=False\n",
    "    for i in range(2,int(math.sqrt(n))+1):\n",
    "        if n%i==0:\n",
    "            is_prime=False\n",
    "    return is_prime\n",
    "a,b=input().split()\n",
    "a=int(a)\n",
    "b=int(b)\n",
    "h=list(range(1,b+1))\n",
    "h[0]=0\n",
    "for i in range(len(h)):\n",
    "    if h[i]==0:\n",
    "        pass\n",
    "    elif prime(h[i]):\n",
    "        for j in range(i+h[i],len(h),h[i]):\n",
    "            h[j]=0\n",
    "h=sorted(list(set(h[a-1:])))\n",
    "h.remove(0)\n",
    "for i in h:\n",
    "    print(i)"
   ]
  },
  {
   "cell_type": "markdown",
   "metadata": {},
   "source": [
    "### 1931 회의실 배정"
   ]
  },
  {
   "cell_type": "code",
   "execution_count": null,
   "metadata": {},
   "outputs": [],
   "source": [
    "meeting=[]\n",
    "for i in range(int(input())):\n",
    "    n,m=map(int,input().split())\n",
    "    meeting.append((n,m))\n",
    "meeting.sort(key=lambda x : x[0])\n",
    "meeting.sort(key=lambda x : x[1])\n",
    "count=1\n",
    "end=meeting[0][1]\n",
    "for i in range(1,len(meeting)):\n",
    "    if meeting[i][0] >= end:\n",
    "        count+=1\n",
    "        end=meeting[i][1]\n",
    "print(count)"
   ]
  },
  {
   "cell_type": "markdown",
   "metadata": {},
   "source": [
    "### 1977 완전 제곱수"
   ]
  },
  {
   "cell_type": "code",
   "execution_count": null,
   "metadata": {},
   "outputs": [],
   "source": [
    "import math\n",
    "lower=int(input())\n",
    "upper=int(input())\n",
    "lower_bound=int(math.ceil(math.sqrt(lower)))\n",
    "upper_bound=int(math.floor(math.sqrt(upper)))\n",
    "answer=0\n",
    "for i in range(lower_bound,upper_bound+1):\n",
    "    answer+=i*i\n",
    "if answer!=0:\n",
    "    print(answer)\n",
    "    print(lower_bound*lower_bound)\n",
    "else:\n",
    "    print(-1)"
   ]
  },
  {
   "cell_type": "markdown",
   "metadata": {},
   "source": [
    "### 1987 알파벳(PyPy)"
   ]
  },
  {
   "cell_type": "code",
   "execution_count": null,
   "metadata": {},
   "outputs": [],
   "source": [
    "def go(board,check,x,y):\n",
    "    ans=0\n",
    "    for i in range(4):\n",
    "        nx=x+dx[i]\n",
    "        ny=y+dy[i]\n",
    "        if 0<=nx<len(board) and 0<=ny<len(board[0]):\n",
    "            if check[ord(board[nx][ny])-65]==False:\n",
    "                check[ord(board[nx][ny])-65]=True\n",
    "                count=go(board,check,nx,ny)\n",
    "                if ans < count:\n",
    "                    ans = count\n",
    "                check[ord(board[nx][ny])-65]=False\n",
    "    return ans+1\n",
    "\n",
    "\n",
    "r,c=map(int,input().split())\n",
    "board=[]\n",
    "for i in range(r):\n",
    "    board.append(list(input()))\n",
    "dx=[0,0,1,-1]\n",
    "dy=[1,-1,0,0]\n",
    "answer=[]\n",
    "check=[False]*26\n",
    "x,y=0,0\n",
    "check[ord(board[x][y])-65]=True\n",
    "print(go(board,check,x,y))"
   ]
  }
 ],
 "metadata": {
  "kernelspec": {
   "display_name": "Python 3",
   "language": "python",
   "name": "python3"
  },
  "language_info": {
   "codemirror_mode": {
    "name": "ipython",
    "version": 3
   },
   "file_extension": ".py",
   "mimetype": "text/x-python",
   "name": "python",
   "nbconvert_exporter": "python",
   "pygments_lexer": "ipython3",
   "version": "3.7.3"
  }
 },
 "nbformat": 4,
 "nbformat_minor": 2
}
