{
 "cells": [
  {
   "cell_type": "markdown",
   "metadata": {},
   "source": [
    "### 2004 조합 0의 개수"
   ]
  },
  {
   "cell_type": "code",
   "execution_count": null,
   "metadata": {},
   "outputs": [],
   "source": [
    "a,b=map(int,input().split())\n",
    "\n",
    "def counts(N):\n",
    "    answer2=0\n",
    "    answer5=0\n",
    "    count=1\n",
    "    while (True):\n",
    "        if N//(5**count)>0:\n",
    "            answer5+=N//(5**count)\n",
    "            count+=1\n",
    "        else:\n",
    "            break\n",
    "    count=1\n",
    "    while (True):\n",
    "        if N//(2**count)>0:\n",
    "            answer2+=N//(2**count)\n",
    "            count+=1\n",
    "        else:\n",
    "            break\n",
    "    return answer2,answer5\n",
    "\n",
    "a1,b1=counts(a)\n",
    "a2,b2=counts(b)\n",
    "a3,b3=counts(a-b)\n",
    "print(min(a1-a2-a3,b1-b2-b3))"
   ]
  },
  {
   "cell_type": "markdown",
   "metadata": {},
   "source": [
    "### 2011 암호코드"
   ]
  },
  {
   "cell_type": "code",
   "execution_count": null,
   "metadata": {},
   "outputs": [],
   "source": [
    "d=[0]*5001\n",
    "mod = 1000000\n",
    "s=input()\n",
    "n=len(s)\n",
    "s=' '+s\n",
    "d[0]=1\n",
    "for i in range(1,n+1):\n",
    "    x=int(s[i])\n",
    "    if 1<=x<=9:\n",
    "        d[i]+=d[i-1]\n",
    "        d[i]%=mod\n",
    "    if i==1:\n",
    "        continue\n",
    "    if s[i-1]=='0':\n",
    "        continue\n",
    "    x=int(s[i-1])*10+int(s[i])\n",
    "    if 10<= x <=26:\n",
    "        d[i]+=d[i-2]\n",
    "        d[i]%=mod\n",
    "print(d[n])"
   ]
  },
  {
   "cell_type": "markdown",
   "metadata": {},
   "source": [
    "###  2022 사다리"
   ]
  },
  {
   "cell_type": "code",
   "execution_count": null,
   "metadata": {},
   "outputs": [],
   "source": [
    "import math\n",
    "x,y,c=map(float,input().split())\n",
    "left,right=0,min(x,y)\n",
    "while(abs(right-left)>1e-6):\n",
    "    mid=(left+right)/2.0\n",
    "    d=mid\n",
    "    h1=math.sqrt(x*x-d*d)\n",
    "    h2=math.sqrt(y*y-d*d)\n",
    "    h=(h1*h2)/(h1+h2)\n",
    "    if h > c:\n",
    "        left=mid\n",
    "    else:\n",
    "        right=mid\n",
    "print(\"%.3f\"%round(mid,3))"
   ]
  },
  {
   "cell_type": "markdown",
   "metadata": {},
   "source": [
    "### 2075 N번째 큰 수(PyPy)"
   ]
  },
  {
   "cell_type": "code",
   "execution_count": null,
   "metadata": {},
   "outputs": [],
   "source": [
    "import heapq\n",
    "answer=[]\n",
    "heapq.heapify(answer)\n",
    "n=int(input())\n",
    "for i in range(n):\n",
    "    numbers=list(map(int,input().split()))\n",
    "    if i==0:\n",
    "        for number in numbers:\n",
    "            heapq.heappush(answer,number)\n",
    "        minItem=answer[0]\n",
    "    else:\n",
    "        for number in numbers:\n",
    "            if number > minItem:\n",
    "                heapq.heappush(answer,number)\n",
    "                heapq.heappop(answer)\n",
    "                minItem=answer[0]\n",
    "print(answer[0])"
   ]
  },
  {
   "cell_type": "markdown",
   "metadata": {},
   "source": [
    "### 2133 타일 채우기"
   ]
  },
  {
   "cell_type": "code",
   "execution_count": null,
   "metadata": {},
   "outputs": [],
   "source": [
    "n=int(input())\n",
    "d=[0]*(n+1)\n",
    "d[0]=1\n",
    "for i in range(2,n+1,2):\n",
    "    d[i]=d[i-2]*3\n",
    "    for j in range(i-4,-1,-2):\n",
    "        d[i] +=d[j]*2\n",
    "print(d[n])"
   ]
  },
  {
   "cell_type": "markdown",
   "metadata": {},
   "source": [
    "### 2156 포도주 시식"
   ]
  },
  {
   "cell_type": "code",
   "execution_count": null,
   "metadata": {},
   "outputs": [],
   "source": [
    "answer=[0]\n",
    "a=int(input())\n",
    "for i in range(a):\n",
    "    answer.append(int(input()))\n",
    "dp=[0]*(a+1)\n",
    "dp[1]=answer[1]\n",
    "if a>1:\n",
    "    dp[2]=dp[1]+answer[2]\n",
    "for i in range(3,len(dp)):\n",
    "    dp[i]=max(answer[i]+answer[i-1]+dp[i-3],answer[i]+dp[i-2])\n",
    "    dp[i]=max(dp[i-1],dp[i])\n",
    "print(dp[a])"
   ]
  },
  {
   "cell_type": "markdown",
   "metadata": {},
   "source": [
    "### 2163 초콜릿 자르기"
   ]
  },
  {
   "cell_type": "code",
   "execution_count": null,
   "metadata": {},
   "outputs": [],
   "source": [
    "a,b=map(int,input().split())\n",
    "print(min(a,b)*(max(a,b)-1)+min(a,b)-1)"
   ]
  },
  {
   "cell_type": "markdown",
   "metadata": {},
   "source": [
    "### 2178 미로찾기"
   ]
  },
  {
   "cell_type": "code",
   "execution_count": null,
   "metadata": {},
   "outputs": [],
   "source": [
    "import queue\n",
    "\n",
    "n,m=map(int,input().split())\n",
    "miro=[]\n",
    "dx=[0,0,1,-1]\n",
    "dy=[1,-1,0,0]\n",
    "for i in range(n):\n",
    "    miro.append(list(map(int,list(input()))))\n",
    "check=[[0 for i in range(m)]for j in range(n)]\n",
    "\n",
    "q=queue.Queue()\n",
    "q.put((0,0))\n",
    "check[0][0]=1\n",
    "temp=queue.Queue()\n",
    "count=2\n",
    "while q.qsize():\n",
    "    x,y=q.get()\n",
    "    for i in range(4):\n",
    "        newX=x+dx[i]\n",
    "        newY=y+dy[i]\n",
    "        if 0<=newX<n and 0<=newY<m:\n",
    "            if miro[newX][newY]==1 and check[newX][newY]==0:\n",
    "                temp.put((newX,newY))\n",
    "                check[newX][newY]=count\n",
    "    if q.qsize()==0:\n",
    "        q=temp\n",
    "        count+=1\n",
    "        temp=queue.Queue()\n",
    "print(check[n-1][m-1])"
   ]
  },
  {
   "cell_type": "markdown",
   "metadata": {},
   "source": [
    "### 2193 이친수"
   ]
  },
  {
   "cell_type": "code",
   "execution_count": null,
   "metadata": {},
   "outputs": [],
   "source": [
    "n=int(input())\n",
    "a,b=1,1\n",
    "count=1\n",
    "while(count<n):\n",
    "    a,b=b,a+b\n",
    "    count+=1\n",
    "print(a)"
   ]
  },
  {
   "cell_type": "markdown",
   "metadata": {},
   "source": [
    "### 2217 로프"
   ]
  },
  {
   "cell_type": "code",
   "execution_count": null,
   "metadata": {},
   "outputs": [],
   "source": [
    "n=int(input())\n",
    "rope=[]\n",
    "for i in range(n):\n",
    "    rope.append(int(input()))\n",
    "rope=sorted(rope,reverse=True)\n",
    "answer=0\n",
    "for i in range(n):\n",
    "    if answer < rope[i]*(i+1):\n",
    "        answer=rope[i]*(i+1)\n",
    "print(answer)"
   ]
  },
  {
   "cell_type": "markdown",
   "metadata": {},
   "source": [
    "### 2225 합분해"
   ]
  },
  {
   "cell_type": "code",
   "execution_count": null,
   "metadata": {},
   "outputs": [],
   "source": [
    "n,k = map(int,input().split())\n",
    "dp=[[0 for _ in range(n+1)]for _ in range(k+1)]\n",
    "mod=1000000000\n",
    "for i in range(n+1):\n",
    "    dp[1][i]=1\n",
    "\n",
    "for i in range(2,k+1):\n",
    "    for j in range(n+1):\n",
    "        for l in range(j+1):\n",
    "            dp[i][j]+=dp[i-1][l]\n",
    "        dp[k][n]%=mod\n",
    "    \n",
    "print(dp[k][n])"
   ]
  },
  {
   "cell_type": "markdown",
   "metadata": {},
   "source": [
    "### 2231 분해합"
   ]
  },
  {
   "cell_type": "code",
   "execution_count": null,
   "metadata": {},
   "outputs": [],
   "source": [
    "answer=int(input())\n",
    "\n",
    "count=1\n",
    "while(True):\n",
    "    temp=count\n",
    "    for i in str(count): \n",
    "        temp+=int(i)\n",
    "    if temp==answer:\n",
    "        break\n",
    "    elif count>answer:\n",
    "        count=0\n",
    "        break\n",
    "    else:\n",
    "        count+=1\n",
    "print(count)"
   ]
  },
  {
   "cell_type": "markdown",
   "metadata": {},
   "source": [
    "### 2292 벌집"
   ]
  },
  {
   "cell_type": "code",
   "execution_count": null,
   "metadata": {},
   "outputs": [],
   "source": [
    "def bee(n):\n",
    "    m = 1\n",
    "    k = 1\n",
    "    count = 1\n",
    "    while n > m:\n",
    "        count+=1\n",
    "        m = m+6*k\n",
    "        k+= 1\n",
    "    return count\n",
    "n=int(input())\n",
    "print(bee(n))"
   ]
  },
  {
   "cell_type": "markdown",
   "metadata": {},
   "source": [
    "### 2309 일곱 난쟁이"
   ]
  },
  {
   "cell_type": "code",
   "execution_count": null,
   "metadata": {},
   "outputs": [],
   "source": [
    "import itertools\n",
    "\n",
    "Dwarfs=[]\n",
    "for i in range(9):\n",
    "    Dwarfs.append(int(input()))\n",
    "Dwarfs.sort()\n",
    "answers=list(itertools.combinations(Dwarfs,7))\n",
    "for answer in answers:\n",
    "    summation=0\n",
    "    for i in answer:\n",
    "        summation+=i\n",
    "    if summation==100:\n",
    "        temp=answer\n",
    "        break\n",
    "for i in temp:\n",
    "    print(i)"
   ]
  },
  {
   "cell_type": "markdown",
   "metadata": {},
   "source": [
    "### 2312 수 복원하기"
   ]
  },
  {
   "cell_type": "code",
   "execution_count": null,
   "metadata": {},
   "outputs": [],
   "source": [
    "for i in range(int(input())):\n",
    "    n=int(input())\n",
    "    count=2\n",
    "    answer = 0\n",
    "    while n!=1:\n",
    "        if n%count==0:\n",
    "            n//=count\n",
    "            answer+=1\n",
    "        else:\n",
    "            if answer==0:\n",
    "                pass\n",
    "            else:\n",
    "                print(count,answer)\n",
    "            answer=0\n",
    "            count+=1\n",
    "    print(count,answer)"
   ]
  },
  {
   "cell_type": "markdown",
   "metadata": {},
   "source": [
    "### 2331 반복수열"
   ]
  },
  {
   "cell_type": "code",
   "execution_count": null,
   "metadata": {},
   "outputs": [],
   "source": [
    "def next(A,P):\n",
    "    a=str(A)\n",
    "    answer=0\n",
    "    for i in a:\n",
    "        answer+=pow(int(i),P)\n",
    "    return answer\n",
    "\n",
    "def dfs(A,P,count,che5ck):\n",
    "    if check[A]!=0:\n",
    "        return check[A]-1\n",
    "    check[A]=count\n",
    "    b= next(A,P)\n",
    "    count+=1\n",
    "    return dfs(b,P,count,check)\n",
    "\n",
    "\n",
    "check=[0]*250000\n",
    "A, P =map(int,input().split())\n",
    "count=1\n",
    "print(dfs(A,P,count,check))"
   ]
  },
  {
   "cell_type": "markdown",
   "metadata": {},
   "source": [
    "### 2407 조합"
   ]
  },
  {
   "cell_type": "code",
   "execution_count": null,
   "metadata": {},
   "outputs": [],
   "source": [
    "import math\n",
    "n,m=map(int,input().split())\n",
    "print(math.factorial(n)//(math.factorial(m)*math.factorial(n-m)))"
   ]
  },
  {
   "cell_type": "markdown",
   "metadata": {},
   "source": [
    "### 2504 괄호의 값"
   ]
  },
  {
   "cell_type": "code",
   "execution_count": null,
   "metadata": {},
   "outputs": [],
   "source": [
    "answer=0\n",
    "stack=[]\n",
    "temp=1\n",
    "correct=True\n",
    "string=input()\n",
    "for i in range(len(string)):\n",
    "    if string[i]==\"(\":\n",
    "        temp*=2\n",
    "        stack.append(\"(\")\n",
    "    elif string[i]==\"[\":\n",
    "        temp*=3\n",
    "        stack.append(\"[\")\n",
    "    elif string[i]==\")\":\n",
    "        if string[i-1]==\"(\":\n",
    "            answer+=temp\n",
    "        if not len(stack):\n",
    "            correct=False\n",
    "            break\n",
    "        if stack[-1]==\"(\":\n",
    "            stack.pop()\n",
    "        temp//=2\n",
    "    else:\n",
    "        if string[i-1]==\"[\":\n",
    "            answer+=temp\n",
    "        if not len(stack):\n",
    "            correct=False\n",
    "            break\n",
    "        if stack[-1]==\"[\":\n",
    "            stack.pop()\n",
    "        temp//=3\n",
    "if (len(stack) or not correct):\n",
    "    print(0)\n",
    "else:\n",
    "    print(answer)"
   ]
  },
  {
   "cell_type": "markdown",
   "metadata": {},
   "source": [
    "### 2606 바이러스"
   ]
  },
  {
   "cell_type": "code",
   "execution_count": null,
   "metadata": {},
   "outputs": [],
   "source": [
    "n=int(input())\n",
    "virus=int(input())\n",
    "computer=[[] for i in range(n+1)]\n",
    "for i in range(virus):\n",
    "    a,b=map(int,input().split())\n",
    "    if not a in computer[b]:\n",
    "        computer[b].append(a)\n",
    "    if not b in computer[a]:\n",
    "        computer[a].append(b)\n",
    "answer=[1]\n",
    "def bfs(now):\n",
    "    global answer\n",
    "    for i in computer[now]:\n",
    "        if not i in answer:\n",
    "            answer.append(i)\n",
    "            bfs(i)\n",
    "bfs(1)\n",
    "print(len(answer)-1)"
   ]
  },
  {
   "cell_type": "markdown",
   "metadata": {},
   "source": [
    "### 2667 단지번호 붙이기"
   ]
  },
  {
   "cell_type": "code",
   "execution_count": null,
   "metadata": {},
   "outputs": [],
   "source": [
    "def dfs(x,y,count):\n",
    "    check[x][y]=count\n",
    "    for i in range(4):\n",
    "        newX=x+dx[i]\n",
    "        newY=y+dy[i]\n",
    "        if (0<= newX < n and 0<=newY <n):\n",
    "            if house[newX][newY]==1 and check[newX][newY]==0:\n",
    "                dfs(newX,newY,count)\n",
    "\n",
    "dx=[0,0,1,-1]\n",
    "dy=[1,-1,0,0]\n",
    "n=int(input())\n",
    "house=[]\n",
    "for i in range(n):\n",
    "    house.append(list(map(int,list(input()))))\n",
    "check=[[0 for i in range(n)]for j in range(n)]\n",
    "count=0\n",
    "for i in range(n):\n",
    "    for j in range(n):\n",
    "        if house[i][j]==1 and check[i][j]==0:\n",
    "            count+=1\n",
    "            dfs(i,j,count)\n",
    "print(count)\n",
    "cnt=0\n",
    "answers=[]\n",
    "for i in range(count):\n",
    "    cnt+=1\n",
    "    answer=0\n",
    "    for j in range(n):\n",
    "        for k in range(n):\n",
    "            if check[j][k]==cnt:\n",
    "                answer+=1\n",
    "    answers.append(answer)\n",
    "answers.sort()\n",
    "print(*answers,sep='\\n')"
   ]
  },
  {
   "cell_type": "markdown",
   "metadata": {},
   "source": [
    "### 2775 부녀회장이 될테야"
   ]
  },
  {
   "cell_type": "code",
   "execution_count": null,
   "metadata": {},
   "outputs": [],
   "source": [
    "answer=[]\n",
    "for i in range(15):\n",
    "    answer.append([])\n",
    "    for j in range(15):\n",
    "        answer[i].append(0)\n",
    "answer[0]=list(range(15))\n",
    "for i in range(1,15):\n",
    "    for j in range(15):\n",
    "        answer[i][j]=sum(answer[i-1][:j+1])\n",
    "n=int(input())\n",
    "for i in range(n):\n",
    "    a=int(input())\n",
    "    b=int(input())\n",
    "    print(answer[a][b])"
   ]
  },
  {
   "cell_type": "markdown",
   "metadata": {},
   "source": [
    "### 2805 나무 자르기(PyPy)"
   ]
  },
  {
   "cell_type": "code",
   "execution_count": null,
   "metadata": {},
   "outputs": [],
   "source": [
    "k,n=map(int,input().split())\n",
    "trees=list(map(int,input().split()))\n",
    "left=1\n",
    "right=max(trees)\n",
    "answer=0\n",
    "while left <= right:\n",
    "    count=0\n",
    "    mid=(left+right)//2\n",
    "    for tree in trees:\n",
    "        if tree-mid > 0:\n",
    "            count+=tree-mid\n",
    "    if count==n:\n",
    "        if answer < mid:\n",
    "            answer=mid\n",
    "        left=mid+1\n",
    "    elif count < n:\n",
    "        right=mid-1\n",
    "    else:\n",
    "        if answer < mid:\n",
    "            answer=mid\n",
    "        left=mid+1\n",
    "print(answer)"
   ]
  },
  {
   "cell_type": "markdown",
   "metadata": {},
   "source": [
    "### 2839 설탕 배달"
   ]
  },
  {
   "cell_type": "code",
   "execution_count": null,
   "metadata": {},
   "outputs": [],
   "source": [
    "def sugar(n):\n",
    "    x=1\n",
    "    count=[]\n",
    "    while n//(3*x) > 0:\n",
    "        if (n-3*x)%5 == 0:\n",
    "            y= (n-3*x)//5\n",
    "            count.append(x+y)\n",
    "        x+=1\n",
    "    y=1\n",
    "    while n//(5*y) > 0:\n",
    "        if (n-5*y)%3 == 0:\n",
    "            x= (n-5*y)//3\n",
    "            count.append(x+y)\n",
    "        y+=1    \n",
    "    if len(count)==0:\n",
    "        return -1\n",
    "    else:\n",
    "        return min(count)\n",
    "n=int(input())\n",
    "print(sugar(n))"
   ]
  },
  {
   "cell_type": "markdown",
   "metadata": {},
   "source": [
    "### 2851 슈퍼 마리오"
   ]
  },
  {
   "cell_type": "code",
   "execution_count": null,
   "metadata": {},
   "outputs": [],
   "source": [
    "answers=[]\n",
    "summation=0\n",
    "for i in range(10):\n",
    "    score=int(input())\n",
    "    answers.append(summation)\n",
    "    summation+=score\n",
    "answers.append(summation)\n",
    "answers.sort(key=lambda x: abs(x-100))\n",
    "if abs(100-answers[0])==abs(100-answers[1]):\n",
    "    print(answers[1])\n",
    "else:\n",
    "    print(answers[0])"
   ]
  },
  {
   "cell_type": "markdown",
   "metadata": {},
   "source": [
    "### 2869 달팽이는 올라가고 싶다"
   ]
  },
  {
   "cell_type": "code",
   "execution_count": null,
   "metadata": {},
   "outputs": [],
   "source": [
    "import math\n",
    "a,b,v=map(int,input().split())\n",
    "print(math.ceil((v-a)/(a-b))+1)"
   ]
  },
  {
   "cell_type": "markdown",
   "metadata": {},
   "source": [
    "### 2875 대회 or 인턴"
   ]
  },
  {
   "cell_type": "code",
   "execution_count": null,
   "metadata": {},
   "outputs": [],
   "source": [
    "n,m,k=map(int,input().split())\n",
    "\n",
    "while k > 0:\n",
    "    if n//2 >=m:\n",
    "        n-=1\n",
    "    else:\n",
    "        m-=1\n",
    "    k-=1\n",
    "    \n",
    "if n//2 >=m:\n",
    "    answer=m\n",
    "else:\n",
    "    answer=n//2\n",
    "print(answer)"
   ]
  },
  {
   "cell_type": "markdown",
   "metadata": {},
   "source": [
    "### 2941 크로아티아 알파벳"
   ]
  },
  {
   "cell_type": "code",
   "execution_count": null,
   "metadata": {},
   "outputs": [],
   "source": [
    "def croatia(s):\n",
    "    lis=['c=','c-','dz=','d-','lj','nj','s=','z=']\n",
    "    answer = 0\n",
    "    for i in lis:\n",
    "        a = s.count(i)\n",
    "        answer+=a\n",
    "        s=s.replace(i,' ')\n",
    "    s=s.replace(' ','')\n",
    "    last=len(s)\n",
    "    answer+=last\n",
    "    return answer\n",
    "s=input()\n",
    "print(croatia(s))"
   ]
  },
  {
   "cell_type": "markdown",
   "metadata": {},
   "source": [
    "### 2960 에라토스테네스의 체"
   ]
  },
  {
   "cell_type": "code",
   "execution_count": null,
   "metadata": {},
   "outputs": [],
   "source": [
    "def make(i):\n",
    "    global answer\n",
    "    idx=i\n",
    "    count=1\n",
    "    temp=0\n",
    "    while idx*count <len(numbers):\n",
    "        temp=numbers[idx*count]\n",
    "        if numbers[idx*count]!=0:\n",
    "            numbers[idx*count]=0\n",
    "            answer+=1\n",
    "            if answer==k:\n",
    "                break\n",
    "        count+=1\n",
    "    return temp\n",
    "\n",
    "\n",
    "n,k=map(int,input().split())\n",
    "numbers=list(range(n+1))\n",
    "numbers[1]=0\n",
    "answer=0\n",
    "conti=True\n",
    "while conti:\n",
    "    for i in range(len(numbers)):\n",
    "        if numbers[i]!=0:\n",
    "            temp=make(i)\n",
    "            if answer==k:\n",
    "                print(temp)\n",
    "                conti=False\n",
    "                break"
   ]
  }
 ],
 "metadata": {
  "kernelspec": {
   "display_name": "Python 3",
   "language": "python",
   "name": "python3"
  },
  "language_info": {
   "codemirror_mode": {
    "name": "ipython",
    "version": 3
   },
   "file_extension": ".py",
   "mimetype": "text/x-python",
   "name": "python",
   "nbconvert_exporter": "python",
   "pygments_lexer": "ipython3",
   "version": "3.7.3"
  }
 },
 "nbformat": 4,
 "nbformat_minor": 2
}
