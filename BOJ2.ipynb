{
 "cells": [
  {
   "cell_type": "markdown",
   "metadata": {},
   "source": [
    "### 2003 수들의 합 2"
   ]
  },
  {
   "cell_type": "code",
   "execution_count": null,
   "metadata": {},
   "outputs": [],
   "source": [
    "n,m = map(int,input().split())\n",
    "numbers = list(map(int,input().split()))\n",
    "\n",
    "answer = 0\n",
    "start,end = 0,0\n",
    "summation = 0\n",
    "while True:    \n",
    "    if summation<m:\n",
    "        if end==n:\n",
    "            break\n",
    "        summation+=numbers[end]\n",
    "        end+=1\n",
    "    else:\n",
    "        summation-=numbers[start]\n",
    "        start+=1\n",
    "        if start>end:\n",
    "            break\n",
    "    if summation==m:\n",
    "        answer+=1\n",
    "\n",
    "print(answer)"
   ]
  },
  {
   "cell_type": "markdown",
   "metadata": {},
   "source": [
    "### 2004 조합 0의 개수"
   ]
  },
  {
   "cell_type": "code",
   "execution_count": null,
   "metadata": {},
   "outputs": [],
   "source": [
    "a,b=map(int,input().split())\n",
    "\n",
    "def counts(N):\n",
    "    answer2=0\n",
    "    answer5=0\n",
    "    count=1\n",
    "    while (True):\n",
    "        if N//(5**count)>0:\n",
    "            answer5+=N//(5**count)\n",
    "            count+=1\n",
    "        else:\n",
    "            break\n",
    "    count=1\n",
    "    while (True):\n",
    "        if N//(2**count)>0:\n",
    "            answer2+=N//(2**count)\n",
    "            count+=1\n",
    "        else:\n",
    "            break\n",
    "    return answer2,answer5\n",
    "\n",
    "a1,b1=counts(a)\n",
    "a2,b2=counts(b)\n",
    "a3,b3=counts(a-b)\n",
    "print(min(a1-a2-a3,b1-b2-b3))"
   ]
  },
  {
   "cell_type": "markdown",
   "metadata": {},
   "source": [
    "### 2010 플러그"
   ]
  },
  {
   "cell_type": "code",
   "execution_count": null,
   "metadata": {},
   "outputs": [],
   "source": [
    "import sys\n",
    "\n",
    "N=int(sys.stdin.readline().strip())\n",
    "answer = int(sys.stdin.readline().strip())\n",
    "for _ in range(N-1):\n",
    "    answer += int(sys.stdin.readline().strip())-1\n",
    "print(answer)"
   ]
  },
  {
   "cell_type": "markdown",
   "metadata": {},
   "source": [
    "### 2011 암호코드"
   ]
  },
  {
   "cell_type": "code",
   "execution_count": null,
   "metadata": {},
   "outputs": [],
   "source": [
    "d=[0]*5001\n",
    "mod = 1000000\n",
    "s=input()\n",
    "n=len(s)\n",
    "s=' '+s\n",
    "d[0]=1\n",
    "for i in range(1,n+1):\n",
    "    x=int(s[i])\n",
    "    if 1<=x<=9:\n",
    "        d[i]+=d[i-1]\n",
    "        d[i]%=mod\n",
    "    if i==1:\n",
    "        continue\n",
    "    if s[i-1]=='0':\n",
    "        continue\n",
    "    x=int(s[i-1])*10+int(s[i])\n",
    "    if 10<= x <=26:\n",
    "        d[i]+=d[i-2]\n",
    "        d[i]%=mod\n",
    "print(d[n])"
   ]
  },
  {
   "cell_type": "markdown",
   "metadata": {},
   "source": [
    "### 2012 등수 매기기"
   ]
  },
  {
   "cell_type": "code",
   "execution_count": null,
   "metadata": {},
   "outputs": [],
   "source": [
    "import sys\n",
    "N = int(sys.stdin.readline())\n",
    "grade = []\n",
    "for _ in range(N):\n",
    "    grade.append(int(sys.stdin.readline()))\n",
    "    \n",
    "grade = sorted(grade)\n",
    "answer = 0\n",
    "for i in range(1,N+1):\n",
    "    answer += abs(grade[i-1]-i)\n",
    "print(answer)"
   ]
  },
  {
   "cell_type": "markdown",
   "metadata": {},
   "source": [
    "###  2022 사다리"
   ]
  },
  {
   "cell_type": "code",
   "execution_count": null,
   "metadata": {},
   "outputs": [],
   "source": [
    "import math\n",
    "x,y,c=map(float,input().split())\n",
    "left,right=0,min(x,y)\n",
    "while(abs(right-left)>1e-6):\n",
    "    mid=(left+right)/2.0\n",
    "    d=mid\n",
    "    h1=math.sqrt(x*x-d*d)\n",
    "    h2=math.sqrt(y*y-d*d)\n",
    "    h=(h1*h2)/(h1+h2)\n",
    "    if h > c:\n",
    "        left=mid\n",
    "    else:\n",
    "        right=mid\n",
    "print(\"%.3f\"%round(mid,3))"
   ]
  },
  {
   "cell_type": "markdown",
   "metadata": {},
   "source": [
    "### 2033 반올림"
   ]
  },
  {
   "cell_type": "code",
   "execution_count": null,
   "metadata": {},
   "outputs": [],
   "source": [
    "n=input()\n",
    "idx=-1\n",
    "while len(n[idx:])!=len(n):\n",
    "    if n[idx] >='5':\n",
    "        if int(n[idx-1])+1>=10:\n",
    "            n=str(int(n[:idx]+'0')+int(n[idx-1])+1)+'0'*(len(n[idx:])-1)\n",
    "        else:\n",
    "            n=n[:idx-1]+str(int(n[idx-1])+1)+'0'*len(n[idx:])\n",
    "    else:\n",
    "        n=n[:idx]+'0'*len(n[idx:])\n",
    "    idx-=1\n",
    "print(n)"
   ]
  },
  {
   "cell_type": "markdown",
   "metadata": {},
   "source": [
    "### 2061 좋은 암호"
   ]
  },
  {
   "cell_type": "code",
   "execution_count": null,
   "metadata": {},
   "outputs": [],
   "source": [
    "import sys\n",
    "K, L = map(int,input().split())\n",
    "\n",
    "candidate = []\n",
    "sosu = [True]*L\n",
    "sosu[0]=False;sosu[1]=False\n",
    "for i in range(2,L):\n",
    "    if sosu[i]:\n",
    "        candidate.append(i)\n",
    "        for j in range(i,L,i):\n",
    "            sosu[j]=False\n",
    "            \n",
    "for can in candidate:\n",
    "    if K%can==0:\n",
    "        print(\"BAD\",can)\n",
    "        sys.exit()\n",
    "print(\"GOOD\")"
   ]
  },
  {
   "cell_type": "markdown",
   "metadata": {},
   "source": [
    "### 2075 N번째 큰 수(PyPy)"
   ]
  },
  {
   "cell_type": "code",
   "execution_count": null,
   "metadata": {},
   "outputs": [],
   "source": [
    "import heapq\n",
    "answer=[]\n",
    "heapq.heapify(answer)\n",
    "n=int(input())\n",
    "for i in range(n):\n",
    "    numbers=list(map(int,input().split()))\n",
    "    if i==0:\n",
    "        for number in numbers:\n",
    "            heapq.heappush(answer,number)\n",
    "        minItem=answer[0]\n",
    "    else:\n",
    "        for number in numbers:\n",
    "            if number > minItem:\n",
    "                heapq.heappush(answer,number)\n",
    "                heapq.heappop(answer)\n",
    "                minItem=answer[0]\n",
    "print(answer[0])"
   ]
  },
  {
   "cell_type": "markdown",
   "metadata": {},
   "source": [
    "### 2096 내려가기"
   ]
  },
  {
   "cell_type": "code",
   "execution_count": null,
   "metadata": {},
   "outputs": [],
   "source": [
    "import copy\n",
    "\n",
    "N = int(input())\n",
    "\n",
    "down = []\n",
    "for _ in range(N):\n",
    "    numbers = list(map(int,input().split()))\n",
    "    if len(down)==0:\n",
    "        for i in numbers:\n",
    "            down.append((i,i))\n",
    "    else:\n",
    "        temp = [0,0,0]\n",
    "        temp[0] = (max(down[0][0],down[1][0])+numbers[0],min(down[0][1],down[1][1])+numbers[0])\n",
    "        temp[1] = (max(down[0][0],down[1][0],down[2][0])+numbers[1],min(down[0][1],down[1][1],down[2][1])+numbers[1])\n",
    "        temp[2] = (max(down[2][0],down[1][0])+numbers[2],min(down[2][1],down[1][1])+numbers[2])\n",
    "        down = temp\n",
    "        \n",
    "        \n",
    "print(max(down,key=lambda x: x[0])[0],min(down,key=lambda x: x[1])[1])"
   ]
  },
  {
   "cell_type": "markdown",
   "metadata": {},
   "source": [
    "### 2133 타일 채우기"
   ]
  },
  {
   "cell_type": "code",
   "execution_count": null,
   "metadata": {},
   "outputs": [],
   "source": [
    "n=int(input())\n",
    "d=[0]*(n+1)\n",
    "d[0]=1\n",
    "for i in range(2,n+1,2):\n",
    "    d[i]=d[i-2]*3\n",
    "    for j in range(i-4,-1,-2):\n",
    "        d[i] +=d[j]*2\n",
    "print(d[n])"
   ]
  },
  {
   "cell_type": "markdown",
   "metadata": {},
   "source": [
    "### 2153 소수 단어"
   ]
  },
  {
   "cell_type": "code",
   "execution_count": null,
   "metadata": {},
   "outputs": [],
   "source": [
    "import math\n",
    "def isprime(n):\n",
    "    for i in range(2,int(math.sqrt(n))+1):\n",
    "        if n%i==0:\n",
    "            return False\n",
    "    return True\n",
    "    \n",
    "word=input()\n",
    "number=0\n",
    "for w in word:\n",
    "    if w.isupper():\n",
    "        number+=ord(w)-38\n",
    "    else:\n",
    "        number+=ord(w)-96\n",
    "if isprime(number):\n",
    "    print(\"It is a prime word.\")\n",
    "else:\n",
    "    print(\"It is not a prime word.\")"
   ]
  },
  {
   "cell_type": "markdown",
   "metadata": {},
   "source": [
    "### 2156 포도주 시식"
   ]
  },
  {
   "cell_type": "code",
   "execution_count": null,
   "metadata": {},
   "outputs": [],
   "source": [
    "answer=[0]\n",
    "a=int(input())\n",
    "for i in range(a):\n",
    "    answer.append(int(input()))\n",
    "dp=[0]*(a+1)\n",
    "dp[1]=answer[1]\n",
    "if a>1:\n",
    "    dp[2]=dp[1]+answer[2]\n",
    "for i in range(3,len(dp)):\n",
    "    dp[i]=max(answer[i]+answer[i-1]+dp[i-3],answer[i]+dp[i-2])\n",
    "    dp[i]=max(dp[i-1],dp[i])\n",
    "print(dp[a])"
   ]
  },
  {
   "cell_type": "markdown",
   "metadata": {},
   "source": [
    "### 2161 카드1"
   ]
  },
  {
   "cell_type": "code",
   "execution_count": null,
   "metadata": {},
   "outputs": [],
   "source": [
    "n = int(input())\n",
    "cards = list(range(1,n+1))\n",
    "while len(cards)>1:\n",
    "    print(cards.pop(0),end=' ')\n",
    "    cards.append(cards.pop(0))\n",
    "print(cards[0])"
   ]
  },
  {
   "cell_type": "markdown",
   "metadata": {},
   "source": [
    "### 2163 초콜릿 자르기"
   ]
  },
  {
   "cell_type": "code",
   "execution_count": null,
   "metadata": {},
   "outputs": [],
   "source": [
    "a,b=map(int,input().split())\n",
    "print(min(a,b)*(max(a,b)-1)+min(a,b)-1)"
   ]
  },
  {
   "cell_type": "markdown",
   "metadata": {},
   "source": [
    "### 2164 카드2"
   ]
  },
  {
   "cell_type": "code",
   "execution_count": null,
   "metadata": {},
   "outputs": [],
   "source": [
    "import sys\n",
    "from collections import deque\n",
    "\n",
    "N=int(sys.stdin.readline())\n",
    "cards = deque(int(i+1) for i in range(N))\n",
    "\n",
    "while len(cards) !=1:\n",
    "    cards.popleft()\n",
    "    cards.append(cards.popleft())\n",
    "    \n",
    "print(cards.pop())"
   ]
  },
  {
   "cell_type": "markdown",
   "metadata": {},
   "source": [
    "### 2167 2차원 배열의 합(pypy3)"
   ]
  },
  {
   "cell_type": "code",
   "execution_count": null,
   "metadata": {},
   "outputs": [],
   "source": [
    "import sys\n",
    "N,M=map(int,sys.stdin.readline().strip().split())\n",
    "\n",
    "array=[]\n",
    "for _ in range(N):\n",
    "    array.append(list(map(int,sys.stdin.readline().strip().split())))\n",
    "    \n",
    "K = int(sys.stdin.readline().strip())\n",
    "for _ in range(K):\n",
    "    answer=0\n",
    "    i,j,x,y=map(int,sys.stdin.readline().strip().split())\n",
    "    temp=array[i-1:x]\n",
    "    for t in temp:\n",
    "        answer+=sum(t[j-1:y])\n",
    "    print(answer)"
   ]
  },
  {
   "cell_type": "markdown",
   "metadata": {},
   "source": [
    "### 2178 미로찾기"
   ]
  },
  {
   "cell_type": "code",
   "execution_count": null,
   "metadata": {},
   "outputs": [],
   "source": [
    "import queue\n",
    "\n",
    "n,m=map(int,input().split())\n",
    "miro=[]\n",
    "dx=[0,0,1,-1]\n",
    "dy=[1,-1,0,0]\n",
    "for i in range(n):\n",
    "    miro.append(list(map(int,list(input()))))\n",
    "check=[[0 for i in range(m)]for j in range(n)]\n",
    "\n",
    "q=queue.Queue()\n",
    "q.put((0,0))\n",
    "check[0][0]=1\n",
    "temp=queue.Queue()\n",
    "count=2\n",
    "while q.qsize():\n",
    "    x,y=q.get()\n",
    "    for i in range(4):\n",
    "        newX=x+dx[i]\n",
    "        newY=y+dy[i]\n",
    "        if 0<=newX<n and 0<=newY<m:\n",
    "            if miro[newX][newY]==1 and check[newX][newY]==0:\n",
    "                temp.put((newX,newY))\n",
    "                check[newX][newY]=count\n",
    "    if q.qsize()==0:\n",
    "        q=temp\n",
    "        count+=1\n",
    "        temp=queue.Queue()\n",
    "print(check[n-1][m-1])"
   ]
  },
  {
   "cell_type": "markdown",
   "metadata": {},
   "source": [
    "### 2193 이친수"
   ]
  },
  {
   "cell_type": "code",
   "execution_count": null,
   "metadata": {},
   "outputs": [],
   "source": [
    "n=int(input())\n",
    "a,b=1,1\n",
    "count=1\n",
    "while(count<n):\n",
    "    a,b=b,a+b\n",
    "    count+=1\n",
    "print(a)"
   ]
  },
  {
   "cell_type": "markdown",
   "metadata": {},
   "source": [
    "### 2217 로프"
   ]
  },
  {
   "cell_type": "code",
   "execution_count": null,
   "metadata": {},
   "outputs": [],
   "source": [
    "n=int(input())\n",
    "rope=[]\n",
    "for i in range(n):\n",
    "    rope.append(int(input()))\n",
    "rope=sorted(rope,reverse=True)\n",
    "answer=0\n",
    "for i in range(n):\n",
    "    if answer < rope[i]*(i+1):\n",
    "        answer=rope[i]*(i+1)\n",
    "print(answer)"
   ]
  },
  {
   "cell_type": "markdown",
   "metadata": {},
   "source": [
    "### 2225 합분해"
   ]
  },
  {
   "cell_type": "code",
   "execution_count": null,
   "metadata": {},
   "outputs": [],
   "source": [
    "n,k = map(int,input().split())\n",
    "dp=[[0 for _ in range(n+1)]for _ in range(k+1)]\n",
    "mod=1000000000\n",
    "for i in range(n+1):\n",
    "    dp[1][i]=1\n",
    "\n",
    "for i in range(2,k+1):\n",
    "    for j in range(n+1):\n",
    "        for l in range(j+1):\n",
    "            dp[i][j]+=dp[i-1][l]\n",
    "        dp[k][n]%=mod\n",
    "    \n",
    "print(dp[k][n])"
   ]
  },
  {
   "cell_type": "markdown",
   "metadata": {},
   "source": [
    "### 2231 분해합"
   ]
  },
  {
   "cell_type": "code",
   "execution_count": null,
   "metadata": {},
   "outputs": [],
   "source": [
    "answer=int(input())\n",
    "\n",
    "count=1\n",
    "while(True):\n",
    "    temp=count\n",
    "    for i in str(count): \n",
    "        temp+=int(i)\n",
    "    if temp==answer:\n",
    "        break\n",
    "    elif count>answer:\n",
    "        count=0\n",
    "        break\n",
    "    else:\n",
    "        count+=1\n",
    "print(count)"
   ]
  },
  {
   "cell_type": "markdown",
   "metadata": {},
   "source": [
    "### 2240 자두나무"
   ]
  },
  {
   "cell_type": "code",
   "execution_count": null,
   "metadata": {},
   "outputs": [],
   "source": [
    "T, W = map(int,input().split())\n",
    "\n",
    "plum = []\n",
    "dp = [[0 for _ in range(W+1)] for _ in range(T)]\n",
    "\n",
    "for _ in range(T):\n",
    "    plum.append(int(input()))\n",
    "\n",
    "for i in range(T):\n",
    "    for j in range(W+1):\n",
    "        if j==0:\n",
    "            if plum[i] == 1:\n",
    "                dp[i][0] = dp[i-1][0]+1\n",
    "            else:\n",
    "                dp[i][0] = dp[i-1][0]\n",
    "        else:\n",
    "            if plum[i] == 1 and j%2 == 0:\n",
    "                dp[i][j] = max(dp[i-1][j],dp[i-1][j-1]) + 1\n",
    "            elif plum[i] == 2 and j%2 == 1:\n",
    "                dp[i][j] = max(dp[i-1][j],dp[i-1][j-1]) + 1\n",
    "            else:\n",
    "                dp[i][j] = max(dp[i-1][j],dp[i-1][j-1])\n",
    "print(max(dp[-1]))"
   ]
  },
  {
   "cell_type": "markdown",
   "metadata": {},
   "source": [
    "### 2292 벌집"
   ]
  },
  {
   "cell_type": "code",
   "execution_count": null,
   "metadata": {},
   "outputs": [],
   "source": [
    "def bee(n):\n",
    "    m = 1\n",
    "    k = 1\n",
    "    count = 1\n",
    "    while n > m:\n",
    "        count+=1\n",
    "        m = m+6*k\n",
    "        k+= 1\n",
    "    return count\n",
    "n=int(input())\n",
    "print(bee(n))"
   ]
  },
  {
   "cell_type": "markdown",
   "metadata": {},
   "source": [
    "### 2293 동전 1"
   ]
  },
  {
   "cell_type": "code",
   "execution_count": null,
   "metadata": {},
   "outputs": [],
   "source": [
    "n,k=map(int,input().split())\n",
    "coins=[]\n",
    "for i in range(n):\n",
    "    coins.append(int(input()))\n",
    "\n",
    "dp=[0]*(k+1)\n",
    "dp[0]=1\n",
    "\n",
    "for coin in coins:\n",
    "    for i in range(coin,k+1):\n",
    "        dp[i]+=dp[i-coin]\n",
    "print(dp[k])"
   ]
  },
  {
   "cell_type": "markdown",
   "metadata": {},
   "source": [
    "### 2294 동전 2"
   ]
  },
  {
   "cell_type": "code",
   "execution_count": null,
   "metadata": {},
   "outputs": [],
   "source": [
    "n,k = map(int,input().split())\n",
    "coin = []\n",
    "for _ in range(n):\n",
    "    coin.append(int(input()))\n",
    "\n",
    "dp=[100001]*(k+1)\n",
    "dp[0]=0\n",
    "\n",
    "for c in coin:\n",
    "    for i in range(c,k+1):\n",
    "        dp[i]=min(dp[i],dp[i-c]+1)\n",
    "\n",
    "if dp[k]==100001:\n",
    "    print(-1)\n",
    "else:\n",
    "    print(dp[k])"
   ]
  },
  {
   "cell_type": "markdown",
   "metadata": {},
   "source": [
    "### 2302 극장 좌석"
   ]
  },
  {
   "cell_type": "code",
   "execution_count": null,
   "metadata": {},
   "outputs": [],
   "source": [
    "N = int(input())\n",
    "M = int(input())\n",
    "if N >= 2:\n",
    "    dp = [1]*(N+1)\n",
    "    dp[2] = 2\n",
    "    for i in range(3,N+1):\n",
    "        dp[i] = dp[i-1] + dp[i-2]\n",
    "    start = 1\n",
    "    answer = 1\n",
    "    for _ in range(M):\n",
    "        vip = int(input())\n",
    "        answer *= dp[vip-start]\n",
    "        start = vip + 1\n",
    "    print(answer*dp[N-start+1])\n",
    "else:\n",
    "    for _ in range(M):\n",
    "        vip = int(input())\n",
    "    print(1)"
   ]
  },
  {
   "cell_type": "markdown",
   "metadata": {},
   "source": [
    "### 2309 일곱 난쟁이"
   ]
  },
  {
   "cell_type": "code",
   "execution_count": null,
   "metadata": {},
   "outputs": [],
   "source": [
    "import itertools\n",
    "\n",
    "Dwarfs=[]\n",
    "for i in range(9):\n",
    "    Dwarfs.append(int(input()))\n",
    "Dwarfs.sort()\n",
    "answers=list(itertools.combinations(Dwarfs,7))\n",
    "for answer in answers:\n",
    "    summation=0\n",
    "    for i in answer:\n",
    "        summation+=i\n",
    "    if summation==100:\n",
    "        temp=answer\n",
    "        break\n",
    "for i in temp:\n",
    "    print(i)"
   ]
  },
  {
   "cell_type": "markdown",
   "metadata": {},
   "source": [
    "### 2312 수 복원하기"
   ]
  },
  {
   "cell_type": "code",
   "execution_count": null,
   "metadata": {},
   "outputs": [],
   "source": [
    "for i in range(int(input())):\n",
    "    n=int(input())\n",
    "    count=2\n",
    "    answer = 0\n",
    "    while n!=1:\n",
    "        if n%count==0:\n",
    "            n//=count\n",
    "            answer+=1\n",
    "        else:\n",
    "            if answer==0:\n",
    "                pass\n",
    "            else:\n",
    "                print(count,answer)\n",
    "            answer=0\n",
    "            count+=1\n",
    "    print(count,answer)"
   ]
  },
  {
   "cell_type": "markdown",
   "metadata": {},
   "source": [
    "### 2331 반복수열"
   ]
  },
  {
   "cell_type": "code",
   "execution_count": null,
   "metadata": {},
   "outputs": [],
   "source": [
    "def next(A,P):\n",
    "    a=str(A)\n",
    "    answer=0\n",
    "    for i in a:\n",
    "        answer+=pow(int(i),P)\n",
    "    return answer\n",
    "\n",
    "def dfs(A,P,count,che5ck):\n",
    "    if check[A]!=0:\n",
    "        return check[A]-1\n",
    "    check[A]=count\n",
    "    b= next(A,P)\n",
    "    count+=1\n",
    "    return dfs(b,P,count,check)\n",
    "\n",
    "\n",
    "check=[0]*250000\n",
    "A, P =map(int,input().split())\n",
    "count=1\n",
    "print(dfs(A,P,count,check))"
   ]
  },
  {
   "cell_type": "markdown",
   "metadata": {},
   "source": [
    "### 2338 긴자리 계산"
   ]
  },
  {
   "cell_type": "code",
   "execution_count": null,
   "metadata": {},
   "outputs": [],
   "source": [
    "a=int(input())\n",
    "b=int(input())\n",
    "print(a+b)\n",
    "print(a-b)\n",
    "print(a*b)"
   ]
  },
  {
   "cell_type": "markdown",
   "metadata": {},
   "source": [
    "### 2352 반도체 설계(pypy3)"
   ]
  },
  {
   "cell_type": "code",
   "execution_count": null,
   "metadata": {},
   "outputs": [],
   "source": [
    "import sys\n",
    "\n",
    "n=int(input())\n",
    "ports=list(map(int,sys.stdin.readline().split()))\n",
    "\n",
    "for i in range(n):\n",
    "    ports[i]=(ports[i],i+1)\n",
    "ports.sort()\n",
    "\n",
    "dp=[0]*n\n",
    "for i in range(n):\n",
    "    idx=ports[i][1]\n",
    "    maxTemp=0\n",
    "    for j in range(idx):\n",
    "        if dp[j] > maxTemp:\n",
    "            maxTemp=dp[j]\n",
    "    dp[idx-1]=maxTemp+1\n",
    "\n",
    "print(max(dp))"
   ]
  },
  {
   "cell_type": "markdown",
   "metadata": {},
   "source": [
    "### 2358 평행선(pypy3)"
   ]
  },
  {
   "cell_type": "code",
   "execution_count": null,
   "metadata": {},
   "outputs": [],
   "source": [
    "points=[]\n",
    "answer=0\n",
    "n=int(input())\n",
    "for _ in range(n):\n",
    "    point=tuple(map(int,input().split()))\n",
    "    points.append(point)\n",
    "    \n",
    "points=sorted(points)\n",
    "xs=[]\n",
    "for i in range(len(points)):\n",
    "    for j in range(i+1,len(points)):\n",
    "        if points[i][0]==points[j][0]:\n",
    "            if not points[i][0] in xs:\n",
    "                xs.append(points[i][0])\n",
    "                answer+=1\n",
    "            break\n",
    "        else:\n",
    "            break\n",
    "        \n",
    "ys=[]\n",
    "points=sorted(points,key=lambda x:x[1])\n",
    "for i in range(len(points)):\n",
    "    for j in range(i+1,len(points)):\n",
    "        if points[i][1]==points[j][1]:\n",
    "            if not points[i][1] in ys:\n",
    "                ys.append(points[i][1])\n",
    "                answer+=1\n",
    "            break\n",
    "        else:\n",
    "            break\n",
    "print(answer)"
   ]
  },
  {
   "cell_type": "markdown",
   "metadata": {},
   "source": [
    "### 2407 조합"
   ]
  },
  {
   "cell_type": "code",
   "execution_count": null,
   "metadata": {},
   "outputs": [],
   "source": [
    "import math\n",
    "n,m=map(int,input().split())\n",
    "print(math.factorial(n)//(math.factorial(m)*math.factorial(n-m)))"
   ]
  },
  {
   "cell_type": "markdown",
   "metadata": {},
   "source": [
    "### 2438 별 찍기-1"
   ]
  },
  {
   "cell_type": "code",
   "execution_count": null,
   "metadata": {},
   "outputs": [],
   "source": [
    "def star(n):\n",
    "    for i in range(1,n+1):\n",
    "        print(\"*\"*i)\n",
    "n=input()\n",
    "n=int(n)\n",
    "star(n)"
   ]
  },
  {
   "cell_type": "markdown",
   "metadata": {},
   "source": [
    "### 2439 별 찍기-2"
   ]
  },
  {
   "cell_type": "code",
   "execution_count": null,
   "metadata": {},
   "outputs": [],
   "source": [
    "def star(n):\n",
    "    for i in range(1,n+1):\n",
    "        print(\" \"*(n-i)+\"*\"*i)\n",
    "n=input()\n",
    "n=int(n)\n",
    "star(n)"
   ]
  },
  {
   "cell_type": "markdown",
   "metadata": {},
   "source": [
    "### 2440 별 찍기-3"
   ]
  },
  {
   "cell_type": "code",
   "execution_count": null,
   "metadata": {},
   "outputs": [],
   "source": [
    "def star(n):\n",
    "    for i in range(n):\n",
    "        print(\"*\"*(n-i))\n",
    "n=input()\n",
    "n=int(n)\n",
    "star(n)"
   ]
  },
  {
   "cell_type": "markdown",
   "metadata": {},
   "source": [
    "### 2441 별 찍기-4"
   ]
  },
  {
   "cell_type": "code",
   "execution_count": null,
   "metadata": {},
   "outputs": [],
   "source": [
    "def star(n):\n",
    "    for i in range(n):\n",
    "        print(\" \"*i+\"*\"*(n-i))\n",
    "n=input()\n",
    "n=int(n)\n",
    "star(n)"
   ]
  },
  {
   "cell_type": "markdown",
   "metadata": {},
   "source": [
    "### 2442 별 찍기-5"
   ]
  },
  {
   "cell_type": "code",
   "execution_count": null,
   "metadata": {},
   "outputs": [],
   "source": [
    "n=int(input())\n",
    "\n",
    "for i in range(n):\n",
    "    print(\" \"*(n-(i+1))+\"*\"*(2*i+1))"
   ]
  },
  {
   "cell_type": "markdown",
   "metadata": {},
   "source": [
    "### 2444 별 찍기-7"
   ]
  },
  {
   "cell_type": "code",
   "execution_count": null,
   "metadata": {},
   "outputs": [],
   "source": [
    "n=int(input())\n",
    "\n",
    "stack=[]\n",
    "for i in range(n):\n",
    "    stack.append(\" \"*(n-(i+1))+\"*\"*(2*i+1))\n",
    "\n",
    "for i in range(n):\n",
    "    print(stack[i])\n",
    "for i in range(n-2,-1,-1):\n",
    "    print(stack[i])"
   ]
  },
  {
   "cell_type": "markdown",
   "metadata": {},
   "source": [
    "### 2446 별 찍기-9"
   ]
  },
  {
   "cell_type": "code",
   "execution_count": null,
   "metadata": {},
   "outputs": [],
   "source": [
    "N = int(input())\n",
    "count = 0\n",
    "for i in range(N,0,-1):\n",
    "    print(\" \"*count+\"*\"*(2*i-1))\n",
    "    count+=1\n",
    "for i in range(1,count):\n",
    "    print(\" \"*(N-i-1)+\"*\"*(2*i+1))"
   ]
  },
  {
   "cell_type": "markdown",
   "metadata": {},
   "source": [
    "### 2455 지능형 기차"
   ]
  },
  {
   "cell_type": "code",
   "execution_count": null,
   "metadata": {},
   "outputs": [],
   "source": [
    "answer=0\n",
    "maxNumber=0\n",
    "for i in range(4):\n",
    "    a,b=map(int,input().split())\n",
    "    answer-=a\n",
    "    answer+=b\n",
    "    if maxNumber<answer:\n",
    "        maxNumber=answer\n",
    "print(maxNumber)"
   ]
  },
  {
   "cell_type": "markdown",
   "metadata": {},
   "source": [
    "### 2468 안전 영역"
   ]
  },
  {
   "cell_type": "code",
   "execution_count": null,
   "metadata": {},
   "outputs": [],
   "source": [
    "import sys\n",
    "import copy\n",
    "\n",
    "sys.setrecursionlimit(1000000)\n",
    "\n",
    "n=int(input())\n",
    "region=[]\n",
    "dx=[0,0,-1,1]\n",
    "dy=[1,-1,0,0]\n",
    "\n",
    "maxH=0\n",
    "answer=1\n",
    "\n",
    "def dfs(x,y,visited):\n",
    "    visited[x][y]=0\n",
    "    for i in range(4):\n",
    "        nx = x +dx[i]\n",
    "        ny = y +dy[i]\n",
    "        if (0 <= nx < n) and (0 <= ny < n):\n",
    "            if visited[nx][ny] != 0:\n",
    "                dfs(nx,ny,visited)\n",
    "\n",
    "for _ in range(n):\n",
    "    temp = list(map(int,input().split()))\n",
    "    if maxH < max(temp):\n",
    "        maxH = max(temp)\n",
    "    region.append(temp)\n",
    "    \n",
    "for h in range(1,maxH+1):\n",
    "    visited=copy.deepcopy(region)\n",
    "    for i in range(n):\n",
    "        for j in range(n):\n",
    "            if visited[i][j] <= h:\n",
    "                visited[i][j] = 0\n",
    "    count = 0\n",
    "    for x in range(n):\n",
    "        for y in range(n):\n",
    "            if visited[x][y] !=0:\n",
    "                dfs (x,y,visited)\n",
    "                count+=1\n",
    "    answer = max(answer,count)\n",
    "\n",
    "print(answer)"
   ]
  },
  {
   "cell_type": "markdown",
   "metadata": {},
   "source": [
    "### 2475 검증수"
   ]
  },
  {
   "cell_type": "code",
   "execution_count": null,
   "metadata": {},
   "outputs": [],
   "source": [
    "numbers = list(map(int,input().split()))\n",
    "answer = 0\n",
    "for number in numbers:\n",
    "    answer += number*number\n",
    "    \n",
    "print(answer%10)"
   ]
  },
  {
   "cell_type": "markdown",
   "metadata": {},
   "source": [
    "### 2480 주사위 세개"
   ]
  },
  {
   "cell_type": "code",
   "execution_count": null,
   "metadata": {},
   "outputs": [],
   "source": [
    "def reward(a,b,c):\n",
    "    if a==b and b==c and c==a:\n",
    "        return 10000+a*1000\n",
    "    else:\n",
    "        if a==b:\n",
    "            return 1000+a*100\n",
    "        elif b==c:\n",
    "            return 1000+b*100\n",
    "        elif c==a:\n",
    "            return 1000+c*100\n",
    "        else:\n",
    "            return max(a,b,c)*100\n",
    "        \n",
    "(a,b,c)=input().split()\n",
    "a=int(a)\n",
    "b=int(b)\n",
    "c=int(c)\n",
    "print(reward(a,b,c))"
   ]
  },
  {
   "cell_type": "markdown",
   "metadata": {},
   "source": [
    "### 2485 가로수"
   ]
  },
  {
   "cell_type": "code",
   "execution_count": null,
   "metadata": {},
   "outputs": [],
   "source": [
    "import math,copy\n",
    "\n",
    "n=int(input())\n",
    "\n",
    "trees=[]\n",
    "a=int(input())\n",
    "for _ in range(1,n):\n",
    "    b=int(input())\n",
    "    trees.append(b-a)\n",
    "    a=b\n",
    "\n",
    "temp=copy.deepcopy(trees)\n",
    "while len(temp)!=1:\n",
    "    a=temp.pop()\n",
    "    b=temp.pop()\n",
    "    p=math.gcd(a,b)\n",
    "    temp.append(p)\n",
    "\n",
    "answer=0\n",
    "p=temp[0]\n",
    "\n",
    "for tree in trees:\n",
    "    answer+=tree//p-1\n",
    "    \n",
    "print(answer)"
   ]
  },
  {
   "cell_type": "markdown",
   "metadata": {},
   "source": [
    "### 2490 윷놀이"
   ]
  },
  {
   "cell_type": "code",
   "execution_count": null,
   "metadata": {},
   "outputs": [],
   "source": [
    "for i in range(3):\n",
    "    a=list(map(int,input().split()))\n",
    "    counts=a.count(1)\n",
    "    if counts==4:\n",
    "        print(\"E\")\n",
    "    elif counts==3:\n",
    "        print(\"A\")\n",
    "    elif counts==2:\n",
    "        print(\"B\")\n",
    "    elif counts==1:\n",
    "        print(\"C\")\n",
    "    else:\n",
    "        print(\"D\")"
   ]
  },
  {
   "cell_type": "markdown",
   "metadata": {},
   "source": [
    "### 2493 탑"
   ]
  },
  {
   "cell_type": "code",
   "execution_count": null,
   "metadata": {},
   "outputs": [],
   "source": [
    "n = int(input())\n",
    "tops = list(map(int,input().split()))\n",
    "stack = []\n",
    "answer = []\n",
    "for i in range(n):\n",
    "    top = tops[i]\n",
    "    if len(stack) == 0:\n",
    "        answer.append(0)\n",
    "        stack.append((i+1,top))\n",
    "        continue\n",
    "    if top > stack[-1][1]:\n",
    "        while len(stack) and stack[-1][1] < top:\n",
    "            stack.pop()\n",
    "        if len(stack) == 0:\n",
    "            answer.append(0)\n",
    "        else:\n",
    "            answer.append(stack[-1][0])\n",
    "    else:\n",
    "        answer.append(stack[-1][0])\n",
    "    stack.append((i+1,top))\n",
    "print(*answer)"
   ]
  },
  {
   "cell_type": "markdown",
   "metadata": {},
   "source": [
    "### 2503 숫자 야구"
   ]
  },
  {
   "cell_type": "code",
   "execution_count": null,
   "metadata": {},
   "outputs": [],
   "source": [
    "def solution(baseball):\n",
    "    answer=[]\n",
    "    for i in range(1,10):\n",
    "        for j in range(1,10):\n",
    "            for k in range(1,10):\n",
    "                if (i==k or i==j or j==k):\n",
    "                    pass\n",
    "                else:\n",
    "                    answer.append(str(i*100+j*10+k))\n",
    "    for i in baseball:\n",
    "        for j in range(len(answer)):\n",
    "            st_cnt=0\n",
    "            bl_cnt=0\n",
    "            for k in range(3):\n",
    "                for l in range(3):\n",
    "                    if (answer[j][k]==str(i[0])[l] and k==l):\n",
    "                        st_cnt+=1\n",
    "                    elif (answer[j][k]==str(i[0])[l] and k!=l):\n",
    "                        bl_cnt+=1\n",
    "            if st_cnt==int(i[1]) and bl_cnt==int(i[2]):\n",
    "                pass\n",
    "            else:\n",
    "                answer[j]=0\n",
    "        answer=list(set(answer))\n",
    "        if (0 in answer):\n",
    "            answer.remove(0)\n",
    "        else:\n",
    "            pass\n",
    "    return len(answer)\n",
    "\n",
    "n=int(input())\n",
    "baseball=[]\n",
    "for _ in range(n):\n",
    "    number,s,b=map(int,input().split())\n",
    "    baseball.append([number,s,b])\n",
    "    \n",
    "print(solution(baseball))"
   ]
  },
  {
   "cell_type": "markdown",
   "metadata": {},
   "source": [
    "### 2504 괄호의 값"
   ]
  },
  {
   "cell_type": "code",
   "execution_count": null,
   "metadata": {},
   "outputs": [],
   "source": [
    "answer=0\n",
    "stack=[]\n",
    "temp=1\n",
    "correct=True\n",
    "string=input()\n",
    "for i in range(len(string)):\n",
    "    if string[i]==\"(\":\n",
    "        temp*=2\n",
    "        stack.append(\"(\")\n",
    "    elif string[i]==\"[\":\n",
    "        temp*=3\n",
    "        stack.append(\"[\")\n",
    "    elif string[i]==\")\":\n",
    "        if string[i-1]==\"(\":\n",
    "            answer+=temp\n",
    "        if not len(stack):\n",
    "            correct=False\n",
    "            break\n",
    "        if stack[-1]==\"(\":\n",
    "            stack.pop()\n",
    "        temp//=2\n",
    "    else:\n",
    "        if string[i-1]==\"[\":\n",
    "            answer+=temp\n",
    "        if not len(stack):\n",
    "            correct=False\n",
    "            break\n",
    "        if stack[-1]==\"[\":\n",
    "            stack.pop()\n",
    "        temp//=3\n",
    "if (len(stack) or not correct):\n",
    "    print(0)\n",
    "else:\n",
    "    print(answer)"
   ]
  },
  {
   "cell_type": "markdown",
   "metadata": {},
   "source": [
    "### 2512 예산"
   ]
  },
  {
   "cell_type": "code",
   "execution_count": null,
   "metadata": {},
   "outputs": [],
   "source": [
    "def solution(budgets, M):\n",
    "    left=0\n",
    "    right=max(budgets)\n",
    "    temp=0\n",
    "    answer=0\n",
    "    while(right>=left):\n",
    "        mid=(left+right)//2\n",
    "        result=0\n",
    "        for i in budgets:\n",
    "            if mid>i:\n",
    "                result+=i\n",
    "            else:\n",
    "                result+=mid\n",
    "        if result>M:\n",
    "            right=mid-1\n",
    "        else:\n",
    "            if result>=temp:\n",
    "                answer=mid\n",
    "            left=mid+1\n",
    "    return answer\n",
    "\n",
    "n=int(input())\n",
    "budgets=list(map(int,input().split()))\n",
    "M =int(input())\n",
    "print(solution(budgets,M))"
   ]
  },
  {
   "cell_type": "markdown",
   "metadata": {},
   "source": [
    "### 2523 별 찍기-13"
   ]
  },
  {
   "cell_type": "code",
   "execution_count": null,
   "metadata": {},
   "outputs": [],
   "source": [
    "N = int(input())\n",
    "for i in range(1,N):\n",
    "    print(\"*\"*i)\n",
    "for i in range(N,0,-1):\n",
    "    print(\"*\"*i)"
   ]
  },
  {
   "cell_type": "markdown",
   "metadata": {},
   "source": [
    "### 2523 부등호"
   ]
  },
  {
   "cell_type": "code",
   "execution_count": null,
   "metadata": {},
   "outputs": [],
   "source": [
    "def is_possible(i,op,j):\n",
    "    if op == \">\":\n",
    "        return i > j\n",
    "    else:\n",
    "        return i < j\n",
    "\n",
    "def dfs(length,can):\n",
    "    global answer\n",
    "    if length==n+1:\n",
    "        answer.append(can)\n",
    "        return\n",
    "    for i in range(10):\n",
    "        if not visited[i]:\n",
    "            if length==0 or is_possible(can[-1],ie[length-1],str(i)):\n",
    "                visited[i] = True\n",
    "                dfs(length+1,can+str(i))\n",
    "                visited[i] = False\n",
    "                \n",
    "n=int(input())\n",
    "ie = input().split()\n",
    "numbers  = list(range(10))\n",
    "visited = [False]*10\n",
    "answer = []\n",
    "dfs(0,\"\")\n",
    "print(answer[-1])\n",
    "print(answer[0])"
   ]
  },
  {
   "cell_type": "markdown",
   "metadata": {},
   "source": [
    "### 2555 생일 출력하기"
   ]
  },
  {
   "cell_type": "code",
   "execution_count": null,
   "metadata": {},
   "outputs": [],
   "source": [
    "print(\"10/14\")"
   ]
  },
  {
   "cell_type": "markdown",
   "metadata": {},
   "source": [
    "### 2557 Hello World"
   ]
  },
  {
   "cell_type": "code",
   "execution_count": null,
   "metadata": {},
   "outputs": [],
   "source": [
    "print(\"Hello World!\")"
   ]
  },
  {
   "cell_type": "markdown",
   "metadata": {},
   "source": [
    "### 2558 A+B -2"
   ]
  },
  {
   "cell_type": "code",
   "execution_count": null,
   "metadata": {},
   "outputs": [],
   "source": [
    "a=input()\n",
    "b=input()\n",
    "a=int(a)\n",
    "b=int(b)\n",
    "print(a+b)"
   ]
  },
  {
   "cell_type": "markdown",
   "metadata": {},
   "source": [
    "### 2562 최댓값"
   ]
  },
  {
   "cell_type": "code",
   "execution_count": null,
   "metadata": {},
   "outputs": [],
   "source": [
    "maxNumber=0\n",
    "maxindex=0\n",
    "for i in range(9):\n",
    "    n=int(input())\n",
    "    if n > maxNumber:\n",
    "        maxNumber=n\n",
    "        maxindex=i+1\n",
    "print(maxNumber)\n",
    "print(maxindex)"
   ]
  },
  {
   "cell_type": "markdown",
   "metadata": {},
   "source": [
    "### 2576 홀수"
   ]
  },
  {
   "cell_type": "code",
   "execution_count": null,
   "metadata": {},
   "outputs": [],
   "source": [
    "answer,mini=0,101\n",
    "for _ in range(7):\n",
    "    a = int(input())\n",
    "    if a%2:\n",
    "        answer += a\n",
    "        mini = min(mini,a)\n",
    "if answer==0:\n",
    "    print(-1)\n",
    "else:\n",
    "    print(answer)\n",
    "    print(mini)"
   ]
  },
  {
   "cell_type": "markdown",
   "metadata": {},
   "source": [
    "### 2577 숫자의 개수"
   ]
  },
  {
   "cell_type": "code",
   "execution_count": null,
   "metadata": {},
   "outputs": [],
   "source": [
    "def cross(a,b,c):\n",
    "    d=a*b*c\n",
    "    d=str(d)\n",
    "    for i in range(10):\n",
    "        print(d.count(str(i)))\n",
    "a=int(input())\n",
    "b=int(input())\n",
    "c=int(input())\n",
    "cross(a,b,c)"
   ]
  },
  {
   "cell_type": "markdown",
   "metadata": {},
   "source": [
    "### 2579 계단 오르기"
   ]
  },
  {
   "cell_type": "code",
   "execution_count": null,
   "metadata": {},
   "outputs": [],
   "source": [
    "stair=[]\n",
    "dp=[0]*300\n",
    "n=int(input())\n",
    "for _ in range(n):\n",
    "    stair.append(int(input()))\n",
    "\n",
    "if n>=3:    \n",
    "    dp[0]=stair[0]\n",
    "    dp[1]=max(stair[0]+stair[1],stair[1])\n",
    "    dp[2]=max(stair[0]+stair[2],stair[1]+stair[2])\n",
    "\n",
    "    for i in range(3,n):\n",
    "        dp[i]=max(dp[i-2]+stair[i],stair[i-1]+stair[i]+dp[i-3])\n",
    "\n",
    "    print(dp[n-1])\n",
    "elif n==2:\n",
    "    print(max(stair[0]+stair[1],stair[1]))\n",
    "elif n==1:\n",
    "    print(stair[0])"
   ]
  },
  {
   "cell_type": "markdown",
   "metadata": {},
   "source": [
    "### 2580 스도쿠(pypy3)"
   ]
  },
  {
   "cell_type": "code",
   "execution_count": null,
   "metadata": {},
   "outputs": [],
   "source": [
    "import sys\n",
    "\n",
    "sudoku = [list(map(int,sys.stdin.readline().split())) for _ in range(9)]\n",
    "\n",
    "toDoList = []\n",
    "for i in range(9):\n",
    "    for j in range(9):\n",
    "        if sudoku[i][j] == 0:\n",
    "            toDoList.append((i,j))\n",
    "            \n",
    "def isPromising(i,j):\n",
    "    numbers = set(range(1,10))\n",
    "    numbers -= set(sudoku[i])\n",
    "    if len(numbers)==0:\n",
    "        return []\n",
    "    numbers -= set([sudoku[t][j] for t in range(9)])\n",
    "    if len(numbers)==0:\n",
    "        return []\n",
    "    numbers -= set([sudoku[p][q] for p in range(3*(i//3),3*(i//3+1))\n",
    "                    for q in range(3*(j//3),3*(j//3+1))])\n",
    "    return numbers\n",
    "\n",
    "def check(x):\n",
    "    if x == len(toDoList):\n",
    "        for row in sudoku:\n",
    "            print(*row)\n",
    "        sys.exit()\n",
    "    else:\n",
    "        i,j = toDoList[x]\n",
    "        promising = isPromising(i,j)\n",
    "    \n",
    "    for case in promising:\n",
    "        sudoku[i][j] = case\n",
    "        check(x+1)\n",
    "        sudoku[i][j] = 0\n",
    "check(0)"
   ]
  },
  {
   "cell_type": "markdown",
   "metadata": {},
   "source": [
    "### 2581 소수"
   ]
  },
  {
   "cell_type": "code",
   "execution_count": null,
   "metadata": {},
   "outputs": [],
   "source": [
    "def sosu(n,m):\n",
    "    numbers=[]\n",
    "    for j in range(n,m+1):\n",
    "        soinsu=[]\n",
    "        for i in range(1,j+1):\n",
    "            if j%i==0:\n",
    "                soinsu.append(i)\n",
    "        if len(soinsu) > 2:\n",
    "            pass\n",
    "        elif len(soinsu) == 2:\n",
    "            numbers.append(j)\n",
    "        else:\n",
    "            pass\n",
    "    if len(numbers)==0:\n",
    "        print(-1)\n",
    "    else:\n",
    "        print(sum(numbers))\n",
    "        print(min(numbers))\n",
    "n=int(input())\n",
    "m=int(input())\n",
    "sosu(n,m)"
   ]
  },
  {
   "cell_type": "markdown",
   "metadata": {},
   "source": [
    "### 2583 영역 구하기"
   ]
  },
  {
   "cell_type": "code",
   "execution_count": null,
   "metadata": {},
   "outputs": [],
   "source": [
    "dx = [-1,0,0,1]\n",
    "dy = [0,1,-1,0]\n",
    "\n",
    "def bfs(x,y):\n",
    "    visited[y][x] = 1\n",
    "    area = 1\n",
    "    points = [(x,y)]\n",
    "    while len(points):\n",
    "        temp = []\n",
    "        for point in points:\n",
    "            x,y = point\n",
    "            for i in range(4):\n",
    "                nx = x+dx[i]\n",
    "                ny = y+dy[i]\n",
    "                if 0<= nx < n and 0<= ny < m:\n",
    "                    if region[ny][nx]==1 and not visited[ny][nx]:\n",
    "                        area+=1\n",
    "                        visited[ny][nx]=1\n",
    "                        temp.append((nx,ny))\n",
    "        points = temp\n",
    "    return area\n",
    "                \n",
    "\n",
    "m,n,k = map(int,input().split())\n",
    "region = [[1 for _ in range(n)]for _ in range(m)]\n",
    "visited = [[0 for _ in range(n)]for _ in range(m)]\n",
    "\n",
    "for _ in range(k):\n",
    "    x1,y1,x2,y2 = map(int,input().split())\n",
    "    for x in range(x1,x2):\n",
    "        for y in range(y1,y2):\n",
    "            region[y][x] = 0\n",
    "\n",
    "\n",
    "answers = []\n",
    "for x in range(n):\n",
    "    for y in range(m):\n",
    "        if region[y][x] and not visited[y][x]:\n",
    "            answer = bfs(x,y)\n",
    "            answers.append(answer)\n",
    "            \n",
    "print(len(answers))\n",
    "print(*sorted(answers))"
   ]
  },
  {
   "cell_type": "markdown",
   "metadata": {},
   "source": [
    "### 2588 곱셈"
   ]
  },
  {
   "cell_type": "code",
   "execution_count": null,
   "metadata": {},
   "outputs": [],
   "source": [
    "n=int(input())\n",
    "m=input()\n",
    "answer=0\n",
    "count=0\n",
    "for i in range(len(m)-1,-1,-1):\n",
    "    print(n*int(m[i]))\n",
    "    answer+=n*int(m[i])*(10**count)\n",
    "    count+=1\n",
    "print(answer)"
   ]
  },
  {
   "cell_type": "markdown",
   "metadata": {},
   "source": [
    "### 2606 바이러스"
   ]
  },
  {
   "cell_type": "code",
   "execution_count": null,
   "metadata": {},
   "outputs": [],
   "source": [
    "n=int(input())\n",
    "virus=int(input())\n",
    "computer=[[] for i in range(n+1)]\n",
    "for i in range(virus):\n",
    "    a,b=map(int,input().split())\n",
    "    if not a in computer[b]:\n",
    "        computer[b].append(a)\n",
    "    if not b in computer[a]:\n",
    "        computer[a].append(b)\n",
    "answer=[1]\n",
    "def bfs(now):\n",
    "    global answer\n",
    "    for i in computer[now]:\n",
    "        if not i in answer:\n",
    "            answer.append(i)\n",
    "            bfs(i)\n",
    "bfs(1)\n",
    "print(len(answer)-1)"
   ]
  },
  {
   "cell_type": "markdown",
   "metadata": {},
   "source": [
    "### 2609 최대공약수와 최소공배수"
   ]
  },
  {
   "cell_type": "code",
   "execution_count": null,
   "metadata": {},
   "outputs": [],
   "source": [
    "def gcd(a,b):\n",
    "    a,b=max(a,b),min(a,b)\n",
    "    while b !=0:\n",
    "        a,b=b,a%b\n",
    "    return a\n",
    "def lcm(a,b):\n",
    "    print(gcd(a,b))\n",
    "    print(a*b//gcd(a,b))\n",
    "a,b=map(int,input().split())\n",
    "lcm(a,b)"
   ]
  },
  {
   "cell_type": "markdown",
   "metadata": {},
   "source": [
    "### 2621 카드게임"
   ]
  },
  {
   "cell_type": "code",
   "execution_count": null,
   "metadata": {},
   "outputs": [],
   "source": [
    "color = [];number = {}\n",
    "for _ in range(5):\n",
    "    c, n = input().split()\n",
    "    color.append(c)\n",
    "    if number.get(int(n)):\n",
    "        number[int(n)]+=1\n",
    "    else:\n",
    "        number[int(n)]=1\n",
    "\n",
    "answer = 0\n",
    "key = number.keys()\n",
    "value = sorted(number.values())\n",
    "if len(set(color))==1 and max(key)-min(key)==4:\n",
    "    temp = 900+max(key)\n",
    "    if temp >  answer:\n",
    "        answer = temp\n",
    "elif value[-1]==4:\n",
    "    for k,v in number.items():\n",
    "        if v==4:\n",
    "            temp = 800+k\n",
    "            break\n",
    "    if temp >  answer:\n",
    "        answer = temp\n",
    "elif value == [2,3]:\n",
    "    temp = 700\n",
    "    for k,v in number.items():\n",
    "        if v==2:\n",
    "            temp+=k\n",
    "        elif v==3:\n",
    "            temp+=k*10\n",
    "    if temp >  answer:\n",
    "        answer = temp\n",
    "elif len(set(color))==1:\n",
    "    temp = 600+max(key)\n",
    "    if temp >  answer:\n",
    "        answer = temp\n",
    "elif max(key)-min(key)==4:\n",
    "    temp = 500+max(key)\n",
    "    if temp > answer:\n",
    "        answer = temp\n",
    "elif value[-1]==3:\n",
    "    temp = 400\n",
    "    for k,v in number.items():\n",
    "        if v==3:\n",
    "            temp+=k\n",
    "    if temp > answer:\n",
    "        answer = temp\n",
    "elif value == [1,2,2]:\n",
    "    temp = 300+sorted(number.items(),key = lambda x: x[1])[1][0]*10+sorted(number.items(),key = lambda x: x[1])[2][0]\n",
    "    if temp > answer:\n",
    "        answer = temp\n",
    "elif value[-1]==2:\n",
    "    temp = 200+sorted(number.items(),key = lambda x: x[1])[-1][0]\n",
    "    if temp > answer:\n",
    "        answer = temp\n",
    "else:\n",
    "    temp = 100+max(key)\n",
    "    if temp > answer:\n",
    "        answer = temp\n",
    "print(answer)"
   ]
  },
  {
   "cell_type": "markdown",
   "metadata": {},
   "source": [
    "### 2630 색종이 만들기"
   ]
  },
  {
   "cell_type": "code",
   "execution_count": null,
   "metadata": {},
   "outputs": [],
   "source": [
    "white, black = 0, 0\n",
    "\n",
    "def check(x,y,n):\n",
    "    color = paper[x][y]\n",
    "    div = False\n",
    "    for i in range(n):\n",
    "        for j in range(n):\n",
    "            if color !=paper[x+i][y+j]:\n",
    "                div = True\n",
    "                break\n",
    "    if div:\n",
    "        return \"div\"\n",
    "    else:\n",
    "        if color == 0:\n",
    "            return \"white\"\n",
    "        else:\n",
    "            return \"black\"\n",
    "                \n",
    "def divide(x,y,n):\n",
    "    global white,black\n",
    "    color = check(x,y,n)\n",
    "    if color == 'white':\n",
    "        white+=1\n",
    "    elif color == 'black':\n",
    "        black+=1\n",
    "    else:\n",
    "        divide(x,y,n//2)\n",
    "        divide(x+n//2,y,n//2)\n",
    "        divide(x,y+n//2,n//2)\n",
    "        divide(x+n//2,y+n//2,n//2)\n",
    "\n",
    "n = int(input())\n",
    "paper = []\n",
    "for i in range(n):\n",
    "    paper.append(list(map(int,input().split())))\n",
    "\n",
    "divide(0,0,n)\n",
    "print(white)\n",
    "print(black)"
   ]
  },
  {
   "cell_type": "markdown",
   "metadata": {},
   "source": [
    "### 2644 촌수계산"
   ]
  },
  {
   "cell_type": "code",
   "execution_count": null,
   "metadata": {},
   "outputs": [],
   "source": [
    "N=int(input())\n",
    "a,b=map(int,input().split())\n",
    "m=int(input())\n",
    "\n",
    "relation = [[]for _ in range(N+1)]\n",
    "visited = [0 for _ in range(N+1)]\n",
    "\n",
    "for _ in range(m):\n",
    "    c,d = map(int,input().split())\n",
    "    relation[c].append(d)\n",
    "    relation[d].append(c)\n",
    "    \n",
    "answer = 0\n",
    "re=relation[a]\n",
    "while True:\n",
    "    temp=[]\n",
    "    for i in re:\n",
    "        for j in relation[i]:\n",
    "            if visited[j]==0:\n",
    "                visited[j]=1\n",
    "                temp.append(j)\n",
    "    answer+=1\n",
    "    if b in temp:\n",
    "        find=True\n",
    "        break\n",
    "    if len(temp)==0:\n",
    "        find=False\n",
    "        break\n",
    "    re = temp\n",
    "if find:\n",
    "    print(answer+1)\n",
    "else:\n",
    "    print(-1)"
   ]
  },
  {
   "cell_type": "markdown",
   "metadata": {},
   "source": [
    "### 2661 좋은수열"
   ]
  },
  {
   "cell_type": "code",
   "execution_count": null,
   "metadata": {},
   "outputs": [],
   "source": [
    "import sys\n",
    "def good_permutation(number):\n",
    "    for i in range(1,len(number)//2+1):\n",
    "        if number[-i:]==number[-2*i:-i]:\n",
    "            return False\n",
    "    return True\n",
    "\n",
    "def dfs(number,idx):\n",
    "    if idx == n:\n",
    "        print(number)\n",
    "        sys.exit()\n",
    "        return\n",
    "    \n",
    "    for c in ['1','2','3']:\n",
    "        if good_permutation(number+c):\n",
    "            dfs(number+c,idx+1)\n",
    "        \n",
    "n = int(input())\n",
    "number = '1'\n",
    "dfs(number,1)"
   ]
  },
  {
   "cell_type": "markdown",
   "metadata": {},
   "source": [
    "### 2667 단지번호 붙이기"
   ]
  },
  {
   "cell_type": "code",
   "execution_count": null,
   "metadata": {},
   "outputs": [],
   "source": [
    "def dfs(x,y,count):\n",
    "    check[x][y]=count\n",
    "    for i in range(4):\n",
    "        newX=x+dx[i]\n",
    "        newY=y+dy[i]\n",
    "        if (0<= newX < n and 0<=newY <n):\n",
    "            if house[newX][newY]==1 and check[newX][newY]==0:\n",
    "                dfs(newX,newY,count)\n",
    "\n",
    "dx=[0,0,1,-1]\n",
    "dy=[1,-1,0,0]\n",
    "n=int(input())\n",
    "house=[]\n",
    "for i in range(n):\n",
    "    house.append(list(map(int,list(input()))))\n",
    "check=[[0 for i in range(n)]for j in range(n)]\n",
    "count=0\n",
    "for i in range(n):\n",
    "    for j in range(n):\n",
    "        if house[i][j]==1 and check[i][j]==0:\n",
    "            count+=1\n",
    "            dfs(i,j,count)\n",
    "print(count)\n",
    "cnt=0\n",
    "answers=[]\n",
    "for i in range(count):\n",
    "    cnt+=1\n",
    "    answer=0\n",
    "    for j in range(n):\n",
    "        for k in range(n):\n",
    "            if check[j][k]==cnt:\n",
    "                answer+=1\n",
    "    answers.append(answer)\n",
    "answers.sort()\n",
    "print(*answers,sep='\\n')"
   ]
  },
  {
   "cell_type": "markdown",
   "metadata": {},
   "source": [
    "### 2675 문자열 반복"
   ]
  },
  {
   "cell_type": "code",
   "execution_count": null,
   "metadata": {},
   "outputs": [],
   "source": [
    "def repeat(n,a):\n",
    "    s=[]\n",
    "    result=''\n",
    "    for i in range(len(a)):\n",
    "        s.append(a[i]*n)\n",
    "        s[i]=str(s[i])\n",
    "        result+=s[i]\n",
    "    print (result)\n",
    "\n",
    "def case(t):\n",
    "    for i in range(t):\n",
    "        m=input().split()\n",
    "        n=int(m[0])\n",
    "        a=m[1]\n",
    "        repeat(n,a)\n",
    "c=input()\n",
    "c=int(c)\n",
    "case(c)"
   ]
  },
  {
   "cell_type": "markdown",
   "metadata": {},
   "source": [
    "### 2739 구구단"
   ]
  },
  {
   "cell_type": "code",
   "execution_count": null,
   "metadata": {},
   "outputs": [],
   "source": [
    "def gugudan(n):\n",
    "    for i in range(1,10):\n",
    "        print(n,\"*\",i,'=',n*i)\n",
    "n=input()\n",
    "n=int(n)\n",
    "gugudan(n)"
   ]
  },
  {
   "cell_type": "markdown",
   "metadata": {},
   "source": [
    "### 2775 부녀회장이 될테야"
   ]
  },
  {
   "cell_type": "code",
   "execution_count": null,
   "metadata": {},
   "outputs": [],
   "source": [
    "answer=[]\n",
    "for i in range(15):\n",
    "    answer.append([])\n",
    "    for j in range(15):\n",
    "        answer[i].append(0)\n",
    "answer[0]=list(range(15))\n",
    "for i in range(1,15):\n",
    "    for j in range(15):\n",
    "        answer[i][j]=sum(answer[i-1][:j+1])\n",
    "n=int(input())\n",
    "for i in range(n):\n",
    "    a=int(input())\n",
    "    b=int(input())\n",
    "    print(answer[a][b])"
   ]
  },
  {
   "cell_type": "markdown",
   "metadata": {},
   "source": [
    "### 2805 나무 자르기(PyPy)"
   ]
  },
  {
   "cell_type": "code",
   "execution_count": null,
   "metadata": {},
   "outputs": [],
   "source": [
    "k,n=map(int,input().split())\n",
    "trees=list(map(int,input().split()))\n",
    "left=1\n",
    "right=max(trees)\n",
    "answer=0\n",
    "while left <= right:\n",
    "    count=0\n",
    "    mid=(left+right)//2\n",
    "    for tree in trees:\n",
    "        if tree-mid > 0:\n",
    "            count+=tree-mid\n",
    "    if count==n:\n",
    "        if answer < mid:\n",
    "            answer=mid\n",
    "        left=mid+1\n",
    "    elif count < n:\n",
    "        right=mid-1\n",
    "    else:\n",
    "        if answer < mid:\n",
    "            answer=mid\n",
    "        left=mid+1\n",
    "print(answer)"
   ]
  },
  {
   "cell_type": "markdown",
   "metadata": {},
   "source": [
    "### 2839 설탕 배달"
   ]
  },
  {
   "cell_type": "code",
   "execution_count": null,
   "metadata": {},
   "outputs": [],
   "source": [
    "def sugar(n):\n",
    "    x=1\n",
    "    count=[]\n",
    "    while n//(3*x) > 0:\n",
    "        if (n-3*x)%5 == 0:\n",
    "            y= (n-3*x)//5\n",
    "            count.append(x+y)\n",
    "        x+=1\n",
    "    y=1\n",
    "    while n//(5*y) > 0:\n",
    "        if (n-5*y)%3 == 0:\n",
    "            x= (n-5*y)//3\n",
    "            count.append(x+y)\n",
    "        y+=1    \n",
    "    if len(count)==0:\n",
    "        return -1\n",
    "    else:\n",
    "        return min(count)\n",
    "n=int(input())\n",
    "print(sugar(n))"
   ]
  },
  {
   "cell_type": "markdown",
   "metadata": {},
   "source": [
    "### 2851 슈퍼 마리오"
   ]
  },
  {
   "cell_type": "code",
   "execution_count": null,
   "metadata": {},
   "outputs": [],
   "source": [
    "answers=[]\n",
    "summation=0\n",
    "for i in range(10):\n",
    "    score=int(input())\n",
    "    answers.append(summation)\n",
    "    summation+=score\n",
    "answers.append(summation)\n",
    "answers.sort(key=lambda x: abs(x-100))\n",
    "if abs(100-answers[0])==abs(100-answers[1]):\n",
    "    print(answers[1])\n",
    "else:\n",
    "    print(answers[0])"
   ]
  },
  {
   "cell_type": "markdown",
   "metadata": {},
   "source": [
    "### 2869 달팽이는 올라가고 싶다"
   ]
  },
  {
   "cell_type": "code",
   "execution_count": null,
   "metadata": {},
   "outputs": [],
   "source": [
    "import math\n",
    "a,b,v=map(int,input().split())\n",
    "print(math.ceil((v-a)/(a-b))+1)"
   ]
  },
  {
   "cell_type": "markdown",
   "metadata": {},
   "source": [
    "### 2875 대회 or 인턴"
   ]
  },
  {
   "cell_type": "code",
   "execution_count": null,
   "metadata": {},
   "outputs": [],
   "source": [
    "n,m,k=map(int,input().split())\n",
    "\n",
    "while k > 0:\n",
    "    if n//2 >=m:\n",
    "        n-=1\n",
    "    else:\n",
    "        m-=1\n",
    "    k-=1\n",
    "    \n",
    "if n//2 >=m:\n",
    "    answer=m\n",
    "else:\n",
    "    answer=n//2\n",
    "print(answer)"
   ]
  },
  {
   "cell_type": "markdown",
   "metadata": {},
   "source": [
    "### 2941 크로아티아 알파벳"
   ]
  },
  {
   "cell_type": "code",
   "execution_count": null,
   "metadata": {},
   "outputs": [],
   "source": [
    "def croatia(s):\n",
    "    lis=['c=','c-','dz=','d-','lj','nj','s=','z=']\n",
    "    answer = 0\n",
    "    for i in lis:\n",
    "        a = s.count(i)\n",
    "        answer+=a\n",
    "        s=s.replace(i,' ')\n",
    "    s=s.replace(' ','')\n",
    "    last=len(s)\n",
    "    answer+=last\n",
    "    return answer\n",
    "s=input()\n",
    "print(croatia(s))"
   ]
  },
  {
   "cell_type": "markdown",
   "metadata": {},
   "source": [
    "### 2960 에라토스테네스의 체"
   ]
  },
  {
   "cell_type": "code",
   "execution_count": null,
   "metadata": {},
   "outputs": [],
   "source": [
    "def make(i):\n",
    "    global answer\n",
    "    idx=i\n",
    "    count=1\n",
    "    temp=0\n",
    "    while idx*count <len(numbers):\n",
    "        temp=numbers[idx*count]\n",
    "        if numbers[idx*count]!=0:\n",
    "            numbers[idx*count]=0\n",
    "            answer+=1\n",
    "            if answer==k:\n",
    "                break\n",
    "        count+=1\n",
    "    return temp\n",
    "\n",
    "\n",
    "n,k=map(int,input().split())\n",
    "numbers=list(range(n+1))\n",
    "numbers[1]=0\n",
    "answer=0\n",
    "conti=True\n",
    "while conti:\n",
    "    for i in range(len(numbers)):\n",
    "        if numbers[i]!=0:\n",
    "            temp=make(i)\n",
    "            if answer==k:\n",
    "                print(temp)\n",
    "                conti=False\n",
    "                break"
   ]
  }
 ],
 "metadata": {
  "kernelspec": {
   "display_name": "Python 3",
   "language": "python",
   "name": "python3"
  },
  "language_info": {
   "codemirror_mode": {
    "name": "ipython",
    "version": 3
   },
   "file_extension": ".py",
   "mimetype": "text/x-python",
   "name": "python",
   "nbconvert_exporter": "python",
   "pygments_lexer": "ipython3",
   "version": "3.7.6"
  }
 },
 "nbformat": 4,
 "nbformat_minor": 2
}
